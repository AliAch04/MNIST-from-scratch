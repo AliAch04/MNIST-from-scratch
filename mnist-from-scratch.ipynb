{
 "cells": [
  {
   "cell_type": "code",
   "execution_count": 1,
   "id": "2947e38f",
   "metadata": {
    "_cell_guid": "b1076dfc-b9ad-4769-8c92-a6c4dae69d19",
    "_uuid": "8f2839f25d086af736a60e9eeb907d3b93b6e0e5",
    "execution": {
     "iopub.execute_input": "2025-09-15T14:19:36.683250Z",
     "iopub.status.busy": "2025-09-15T14:19:36.682958Z",
     "iopub.status.idle": "2025-09-15T14:19:38.444709Z",
     "shell.execute_reply": "2025-09-15T14:19:38.443807Z"
    },
    "papermill": {
     "duration": 1.767364,
     "end_time": "2025-09-15T14:19:38.446354",
     "exception": false,
     "start_time": "2025-09-15T14:19:36.678990",
     "status": "completed"
    },
    "tags": []
   },
   "outputs": [],
   "source": [
    "import numpy as np\n",
    "import pandas as pd\n",
    "import matplotlib.pyplot as plt"
   ]
  },
  {
   "cell_type": "code",
   "execution_count": 2,
   "id": "2ac43218",
   "metadata": {
    "execution": {
     "iopub.execute_input": "2025-09-15T14:19:38.453278Z",
     "iopub.status.busy": "2025-09-15T14:19:38.452414Z",
     "iopub.status.idle": "2025-09-15T14:19:41.592406Z",
     "shell.execute_reply": "2025-09-15T14:19:41.591492Z"
    },
    "papermill": {
     "duration": 3.144821,
     "end_time": "2025-09-15T14:19:41.594084",
     "exception": false,
     "start_time": "2025-09-15T14:19:38.449263",
     "status": "completed"
    },
    "tags": []
   },
   "outputs": [],
   "source": [
    "dt = pd.read_csv('/kaggle/input/digit-recognizer/train.csv')"
   ]
  },
  {
   "cell_type": "code",
   "execution_count": 3,
   "id": "8f5335bb",
   "metadata": {
    "execution": {
     "iopub.execute_input": "2025-09-15T14:19:41.600426Z",
     "iopub.status.busy": "2025-09-15T14:19:41.600154Z",
     "iopub.status.idle": "2025-09-15T14:19:41.627554Z",
     "shell.execute_reply": "2025-09-15T14:19:41.626698Z"
    },
    "papermill": {
     "duration": 0.032249,
     "end_time": "2025-09-15T14:19:41.629104",
     "exception": false,
     "start_time": "2025-09-15T14:19:41.596855",
     "status": "completed"
    },
    "tags": []
   },
   "outputs": [
    {
     "data": {
      "text/html": [
       "<div>\n",
       "<style scoped>\n",
       "    .dataframe tbody tr th:only-of-type {\n",
       "        vertical-align: middle;\n",
       "    }\n",
       "\n",
       "    .dataframe tbody tr th {\n",
       "        vertical-align: top;\n",
       "    }\n",
       "\n",
       "    .dataframe thead th {\n",
       "        text-align: right;\n",
       "    }\n",
       "</style>\n",
       "<table border=\"1\" class=\"dataframe\">\n",
       "  <thead>\n",
       "    <tr style=\"text-align: right;\">\n",
       "      <th></th>\n",
       "      <th>label</th>\n",
       "      <th>pixel0</th>\n",
       "      <th>pixel1</th>\n",
       "      <th>pixel2</th>\n",
       "      <th>pixel3</th>\n",
       "      <th>pixel4</th>\n",
       "      <th>pixel5</th>\n",
       "      <th>pixel6</th>\n",
       "      <th>pixel7</th>\n",
       "      <th>pixel8</th>\n",
       "      <th>...</th>\n",
       "      <th>pixel774</th>\n",
       "      <th>pixel775</th>\n",
       "      <th>pixel776</th>\n",
       "      <th>pixel777</th>\n",
       "      <th>pixel778</th>\n",
       "      <th>pixel779</th>\n",
       "      <th>pixel780</th>\n",
       "      <th>pixel781</th>\n",
       "      <th>pixel782</th>\n",
       "      <th>pixel783</th>\n",
       "    </tr>\n",
       "  </thead>\n",
       "  <tbody>\n",
       "    <tr>\n",
       "      <th>0</th>\n",
       "      <td>1</td>\n",
       "      <td>0</td>\n",
       "      <td>0</td>\n",
       "      <td>0</td>\n",
       "      <td>0</td>\n",
       "      <td>0</td>\n",
       "      <td>0</td>\n",
       "      <td>0</td>\n",
       "      <td>0</td>\n",
       "      <td>0</td>\n",
       "      <td>...</td>\n",
       "      <td>0</td>\n",
       "      <td>0</td>\n",
       "      <td>0</td>\n",
       "      <td>0</td>\n",
       "      <td>0</td>\n",
       "      <td>0</td>\n",
       "      <td>0</td>\n",
       "      <td>0</td>\n",
       "      <td>0</td>\n",
       "      <td>0</td>\n",
       "    </tr>\n",
       "    <tr>\n",
       "      <th>1</th>\n",
       "      <td>0</td>\n",
       "      <td>0</td>\n",
       "      <td>0</td>\n",
       "      <td>0</td>\n",
       "      <td>0</td>\n",
       "      <td>0</td>\n",
       "      <td>0</td>\n",
       "      <td>0</td>\n",
       "      <td>0</td>\n",
       "      <td>0</td>\n",
       "      <td>...</td>\n",
       "      <td>0</td>\n",
       "      <td>0</td>\n",
       "      <td>0</td>\n",
       "      <td>0</td>\n",
       "      <td>0</td>\n",
       "      <td>0</td>\n",
       "      <td>0</td>\n",
       "      <td>0</td>\n",
       "      <td>0</td>\n",
       "      <td>0</td>\n",
       "    </tr>\n",
       "    <tr>\n",
       "      <th>2</th>\n",
       "      <td>1</td>\n",
       "      <td>0</td>\n",
       "      <td>0</td>\n",
       "      <td>0</td>\n",
       "      <td>0</td>\n",
       "      <td>0</td>\n",
       "      <td>0</td>\n",
       "      <td>0</td>\n",
       "      <td>0</td>\n",
       "      <td>0</td>\n",
       "      <td>...</td>\n",
       "      <td>0</td>\n",
       "      <td>0</td>\n",
       "      <td>0</td>\n",
       "      <td>0</td>\n",
       "      <td>0</td>\n",
       "      <td>0</td>\n",
       "      <td>0</td>\n",
       "      <td>0</td>\n",
       "      <td>0</td>\n",
       "      <td>0</td>\n",
       "    </tr>\n",
       "    <tr>\n",
       "      <th>3</th>\n",
       "      <td>4</td>\n",
       "      <td>0</td>\n",
       "      <td>0</td>\n",
       "      <td>0</td>\n",
       "      <td>0</td>\n",
       "      <td>0</td>\n",
       "      <td>0</td>\n",
       "      <td>0</td>\n",
       "      <td>0</td>\n",
       "      <td>0</td>\n",
       "      <td>...</td>\n",
       "      <td>0</td>\n",
       "      <td>0</td>\n",
       "      <td>0</td>\n",
       "      <td>0</td>\n",
       "      <td>0</td>\n",
       "      <td>0</td>\n",
       "      <td>0</td>\n",
       "      <td>0</td>\n",
       "      <td>0</td>\n",
       "      <td>0</td>\n",
       "    </tr>\n",
       "    <tr>\n",
       "      <th>4</th>\n",
       "      <td>0</td>\n",
       "      <td>0</td>\n",
       "      <td>0</td>\n",
       "      <td>0</td>\n",
       "      <td>0</td>\n",
       "      <td>0</td>\n",
       "      <td>0</td>\n",
       "      <td>0</td>\n",
       "      <td>0</td>\n",
       "      <td>0</td>\n",
       "      <td>...</td>\n",
       "      <td>0</td>\n",
       "      <td>0</td>\n",
       "      <td>0</td>\n",
       "      <td>0</td>\n",
       "      <td>0</td>\n",
       "      <td>0</td>\n",
       "      <td>0</td>\n",
       "      <td>0</td>\n",
       "      <td>0</td>\n",
       "      <td>0</td>\n",
       "    </tr>\n",
       "  </tbody>\n",
       "</table>\n",
       "<p>5 rows × 785 columns</p>\n",
       "</div>"
      ],
      "text/plain": [
       "   label  pixel0  pixel1  pixel2  pixel3  pixel4  pixel5  pixel6  pixel7  \\\n",
       "0      1       0       0       0       0       0       0       0       0   \n",
       "1      0       0       0       0       0       0       0       0       0   \n",
       "2      1       0       0       0       0       0       0       0       0   \n",
       "3      4       0       0       0       0       0       0       0       0   \n",
       "4      0       0       0       0       0       0       0       0       0   \n",
       "\n",
       "   pixel8  ...  pixel774  pixel775  pixel776  pixel777  pixel778  pixel779  \\\n",
       "0       0  ...         0         0         0         0         0         0   \n",
       "1       0  ...         0         0         0         0         0         0   \n",
       "2       0  ...         0         0         0         0         0         0   \n",
       "3       0  ...         0         0         0         0         0         0   \n",
       "4       0  ...         0         0         0         0         0         0   \n",
       "\n",
       "   pixel780  pixel781  pixel782  pixel783  \n",
       "0         0         0         0         0  \n",
       "1         0         0         0         0  \n",
       "2         0         0         0         0  \n",
       "3         0         0         0         0  \n",
       "4         0         0         0         0  \n",
       "\n",
       "[5 rows x 785 columns]"
      ]
     },
     "execution_count": 3,
     "metadata": {},
     "output_type": "execute_result"
    }
   ],
   "source": [
    "dt.head()"
   ]
  },
  {
   "cell_type": "code",
   "execution_count": 4,
   "id": "881b8a6e",
   "metadata": {
    "execution": {
     "iopub.execute_input": "2025-09-15T14:19:41.635933Z",
     "iopub.status.busy": "2025-09-15T14:19:41.635634Z",
     "iopub.status.idle": "2025-09-15T14:19:41.641105Z",
     "shell.execute_reply": "2025-09-15T14:19:41.640384Z"
    },
    "papermill": {
     "duration": 0.010359,
     "end_time": "2025-09-15T14:19:41.642351",
     "exception": false,
     "start_time": "2025-09-15T14:19:41.631992",
     "status": "completed"
    },
    "tags": []
   },
   "outputs": [
    {
     "data": {
      "text/plain": [
       "(42000, 785)"
      ]
     },
     "execution_count": 4,
     "metadata": {},
     "output_type": "execute_result"
    }
   ],
   "source": [
    "dt.shape"
   ]
  },
  {
   "cell_type": "code",
   "execution_count": 5,
   "id": "f005c3fe",
   "metadata": {
    "execution": {
     "iopub.execute_input": "2025-09-15T14:19:41.649166Z",
     "iopub.status.busy": "2025-09-15T14:19:41.648875Z",
     "iopub.status.idle": "2025-09-15T14:19:42.299660Z",
     "shell.execute_reply": "2025-09-15T14:19:42.298729Z"
    },
    "papermill": {
     "duration": 0.655997,
     "end_time": "2025-09-15T14:19:42.301313",
     "exception": false,
     "start_time": "2025-09-15T14:19:41.645316",
     "status": "completed"
    },
    "tags": []
   },
   "outputs": [],
   "source": [
    "data = np.array(dt)\n",
    "m, n = data.shape\n",
    "np.random.shuffle(data)\n",
    "\n",
    "data_test = data[0:1000].T\n",
    "Y_test = data_test[0]\n",
    "X_test = data_test[1:n]\n",
    "\n",
    "data_train = data[1000:m].T\n",
    "Y_train = data_train[0]\n",
    "X_train = data_train[1:n]"
   ]
  },
  {
   "cell_type": "code",
   "execution_count": 6,
   "id": "927537e0",
   "metadata": {
    "execution": {
     "iopub.execute_input": "2025-09-15T14:19:42.308335Z",
     "iopub.status.busy": "2025-09-15T14:19:42.307989Z",
     "iopub.status.idle": "2025-09-15T14:19:42.313307Z",
     "shell.execute_reply": "2025-09-15T14:19:42.312585Z"
    },
    "papermill": {
     "duration": 0.010211,
     "end_time": "2025-09-15T14:19:42.314611",
     "exception": false,
     "start_time": "2025-09-15T14:19:42.304400",
     "status": "completed"
    },
    "tags": []
   },
   "outputs": [
    {
     "data": {
      "text/plain": [
       "(784,)"
      ]
     },
     "execution_count": 6,
     "metadata": {},
     "output_type": "execute_result"
    }
   ],
   "source": [
    "X_train[:,0].shape"
   ]
  },
  {
   "cell_type": "code",
   "execution_count": 7,
   "id": "7aa05d9f",
   "metadata": {
    "execution": {
     "iopub.execute_input": "2025-09-15T14:19:42.321412Z",
     "iopub.status.busy": "2025-09-15T14:19:42.321144Z",
     "iopub.status.idle": "2025-09-15T14:19:42.330797Z",
     "shell.execute_reply": "2025-09-15T14:19:42.329915Z"
    },
    "papermill": {
     "duration": 0.014495,
     "end_time": "2025-09-15T14:19:42.332094",
     "exception": false,
     "start_time": "2025-09-15T14:19:42.317599",
     "status": "completed"
    },
    "tags": []
   },
   "outputs": [],
   "source": [
    "def init_param():\n",
    "    W1 = np.random.rand(10, 784) -0.5\n",
    "    b1 = np.random.rand(10, 1) -0.5\n",
    "\n",
    "    W2 = np.random.rand(10, 10) -0.5\n",
    "    b2 = np.random.rand(10, 1) -0.5\n",
    "\n",
    "    return W1, b1, W2, b2\n",
    "\n",
    "def ReLu(X):\n",
    "    return np.maximum(0, X)\n",
    "\n",
    "def softmax(Z):\n",
    "    return np.exp(Z)/ np.sum(np.exp(Z))\n",
    "\n",
    "def forward_prop(W1, b1, W2, b2, X):\n",
    "    Z1 = W1.dot(X) + b1\n",
    "    A1 = ReLu(Z1)\n",
    "\n",
    "    Z2 = W2.dot(A1) +b2\n",
    "    A2 = softmax(Z2)\n",
    "\n",
    "    return Z1, A1, Z2, A2\n",
    "\n",
    "\n",
    "def one_hot(Y):\n",
    "    one_hot_Y = np.zeros((Y.size, Y.max() +1))  #blank canvas (10, 10)\n",
    "    one_hot_Y[np.arange(Y.size), Y] = 1\n",
    "    #one_hot_Y[0, Y[0]] = 1\n",
    "    #one_hot_Y[1, Y[1]] = 1\n",
    "    #...\n",
    "    #one_hot_Y[Y.size -1, Y[size-1]] = 1\n",
    "\n",
    "    one_hot_Y = one_hot_Y.T\n",
    "    return one_hot_Y\n",
    "\n",
    "def drv_relu(X):\n",
    "    return X >0\n",
    "\n",
    "def backward_prop(Z1, A1, Z2, A2, W2, X, Y):\n",
    "    m = Y.size\n",
    "    one_hot_Y = one_hot(Y)\n",
    "    dZ2 = A2 - one_hot_Y\n",
    "    dW2 = 1/m * dZ2.dot(A1.T) \n",
    "    db2 = 1/m * np.sum(dZ2, axis=1, keepdims=True)\n",
    "\n",
    "\n",
    "    dZ1 = W2.T.dot(dZ2) * drv_relu(Z1)\n",
    "    dW1 = 1/m * dZ1.dot(X.T)\n",
    "    db1 = 1/m * np.sum(dZ1, axis=1, keepdims=True)\n",
    "\n",
    "    return dW1, db1, dW2, db2\n",
    "\n",
    "def update_param(W1, b1, W2, b2, dW1, db1, dW2, db2, a):\n",
    "    W1 = W1- a * dW1\n",
    "    b1 = b1 - a * db1\n",
    "    W2 = W2 - a * dW2\n",
    "    b2 = b2 - a * db2\n",
    "    \n",
    "    return W1, b1, W2, b2\n",
    "    \n",
    "    \n",
    "    \n",
    "    \n",
    "    "
   ]
  },
  {
   "cell_type": "code",
   "execution_count": 8,
   "id": "51df3883",
   "metadata": {
    "execution": {
     "iopub.execute_input": "2025-09-15T14:19:42.338910Z",
     "iopub.status.busy": "2025-09-15T14:19:42.338377Z",
     "iopub.status.idle": "2025-09-15T14:19:42.342896Z",
     "shell.execute_reply": "2025-09-15T14:19:42.342166Z"
    },
    "papermill": {
     "duration": 0.009284,
     "end_time": "2025-09-15T14:19:42.344200",
     "exception": false,
     "start_time": "2025-09-15T14:19:42.334916",
     "status": "completed"
    },
    "tags": []
   },
   "outputs": [],
   "source": [
    "def get_predictions(A2):\n",
    "    return np.argmax(A2, 0) #the index of the highest probability across columns.\n",
    "\n",
    "def get_accuracy(prediction, Y):\n",
    "    print(prediction, Y)\n",
    "    return np.sum(prediction == Y) / Y.size # (Number of Correct) / (Total Number)"
   ]
  },
  {
   "cell_type": "code",
   "execution_count": 9,
   "id": "f5c091f8",
   "metadata": {
    "execution": {
     "iopub.execute_input": "2025-09-15T14:19:42.350575Z",
     "iopub.status.busy": "2025-09-15T14:19:42.350292Z",
     "iopub.status.idle": "2025-09-15T14:19:42.355802Z",
     "shell.execute_reply": "2025-09-15T14:19:42.355026Z"
    },
    "papermill": {
     "duration": 0.009948,
     "end_time": "2025-09-15T14:19:42.356936",
     "exception": false,
     "start_time": "2025-09-15T14:19:42.346988",
     "status": "completed"
    },
    "tags": []
   },
   "outputs": [],
   "source": [
    "def gradiant_decent(X, Y, iterations, a):\n",
    "    W1, b1, W2, b2 = init_param()\n",
    "\n",
    "    for i in range(iterations):\n",
    "        Z1, A1, Z2, A2 = forward_prop(W1, b1, W2, b2, X)\n",
    "        dW1, db1, dW2, db2 = backward_prop(Z1, A1, Z1, A2, W2, X, Y)\n",
    "        W1, b1, W2, b2 = update_param(W1, b1, W2, b2, dW1, db1, dW2, db2, a)\n",
    "\n",
    "        if (i % 10 == 0):\n",
    "            print('Iteration : ',i)\n",
    "            print('accuracy : ', get_accuracy(get_predictions(A2), Y))\n",
    "    return W1, b1, W2, b2"
   ]
  },
  {
   "cell_type": "code",
   "execution_count": 10,
   "id": "7e3ddd71",
   "metadata": {
    "execution": {
     "iopub.execute_input": "2025-09-15T14:19:42.363481Z",
     "iopub.status.busy": "2025-09-15T14:19:42.363233Z",
     "iopub.status.idle": "2025-09-15T14:20:28.821318Z",
     "shell.execute_reply": "2025-09-15T14:20:28.820420Z"
    },
    "papermill": {
     "duration": 46.463213,
     "end_time": "2025-09-15T14:20:28.823074",
     "exception": false,
     "start_time": "2025-09-15T14:19:42.359861",
     "status": "completed"
    },
    "tags": []
   },
   "outputs": [
    {
     "name": "stderr",
     "output_type": "stream",
     "text": [
      "/usr/local/lib/python3.11/dist-packages/numpy/core/fromnumeric.py:88: RuntimeWarning: overflow encountered in reduce\n",
      "  return ufunc.reduce(obj, axis, dtype, out, **passkwargs)\n",
      "/tmp/ipykernel_13/3003829836.py:14: RuntimeWarning: invalid value encountered in divide\n",
      "  return np.exp(Z)/ np.sum(np.exp(Z))\n"
     ]
    },
    {
     "name": "stdout",
     "output_type": "stream",
     "text": [
      "Iteration :  0\n",
      "[0 0 4 ... 0 4 4] [1 5 6 ... 5 0 0]\n",
      "accuracy :  0.047121951219512195\n"
     ]
    },
    {
     "name": "stderr",
     "output_type": "stream",
     "text": [
      "/tmp/ipykernel_13/3003829836.py:38: RuntimeWarning: invalid value encountered in greater\n",
      "  return X >0\n"
     ]
    },
    {
     "name": "stdout",
     "output_type": "stream",
     "text": [
      "Iteration :  10\n",
      "[0 0 0 ... 0 0 0] [1 5 6 ... 5 0 0]\n",
      "accuracy :  0.09826829268292683\n",
      "Iteration :  20\n",
      "[0 0 0 ... 0 0 0] [1 5 6 ... 5 0 0]\n",
      "accuracy :  0.09826829268292683\n",
      "Iteration :  30\n",
      "[0 0 0 ... 0 0 0] [1 5 6 ... 5 0 0]\n",
      "accuracy :  0.09826829268292683\n",
      "Iteration :  40\n",
      "[0 0 0 ... 0 0 0] [1 5 6 ... 5 0 0]\n",
      "accuracy :  0.09826829268292683\n",
      "Iteration :  50\n",
      "[0 0 0 ... 0 0 0] [1 5 6 ... 5 0 0]\n",
      "accuracy :  0.09826829268292683\n",
      "Iteration :  60\n",
      "[0 0 0 ... 0 0 0] [1 5 6 ... 5 0 0]\n",
      "accuracy :  0.09826829268292683\n",
      "Iteration :  70\n",
      "[0 0 0 ... 0 0 0] [1 5 6 ... 5 0 0]\n",
      "accuracy :  0.09826829268292683\n",
      "Iteration :  80\n",
      "[0 0 0 ... 0 0 0] [1 5 6 ... 5 0 0]\n",
      "accuracy :  0.09826829268292683\n",
      "Iteration :  90\n",
      "[0 0 0 ... 0 0 0] [1 5 6 ... 5 0 0]\n",
      "accuracy :  0.09826829268292683\n",
      "Iteration :  100\n",
      "[0 0 0 ... 0 0 0] [1 5 6 ... 5 0 0]\n",
      "accuracy :  0.09826829268292683\n",
      "Iteration :  110\n",
      "[0 0 0 ... 0 0 0] [1 5 6 ... 5 0 0]\n",
      "accuracy :  0.09826829268292683\n",
      "Iteration :  120\n",
      "[0 0 0 ... 0 0 0] [1 5 6 ... 5 0 0]\n",
      "accuracy :  0.09826829268292683\n",
      "Iteration :  130\n",
      "[0 0 0 ... 0 0 0] [1 5 6 ... 5 0 0]\n",
      "accuracy :  0.09826829268292683\n",
      "Iteration :  140\n",
      "[0 0 0 ... 0 0 0] [1 5 6 ... 5 0 0]\n",
      "accuracy :  0.09826829268292683\n",
      "Iteration :  150\n",
      "[0 0 0 ... 0 0 0] [1 5 6 ... 5 0 0]\n",
      "accuracy :  0.09826829268292683\n",
      "Iteration :  160\n",
      "[0 0 0 ... 0 0 0] [1 5 6 ... 5 0 0]\n",
      "accuracy :  0.09826829268292683\n",
      "Iteration :  170\n",
      "[0 0 0 ... 0 0 0] [1 5 6 ... 5 0 0]\n",
      "accuracy :  0.09826829268292683\n",
      "Iteration :  180\n",
      "[0 0 0 ... 0 0 0] [1 5 6 ... 5 0 0]\n",
      "accuracy :  0.09826829268292683\n",
      "Iteration :  190\n",
      "[0 0 0 ... 0 0 0] [1 5 6 ... 5 0 0]\n",
      "accuracy :  0.09826829268292683\n"
     ]
    }
   ],
   "source": [
    "W1, b1, W2, b2 = gradiant_decent(X_train, Y_train, 200, 0.1)"
   ]
  }
 ],
 "metadata": {
  "kaggle": {
   "accelerator": "none",
   "dataSources": [
    {
     "databundleVersionId": 861823,
     "sourceId": 3004,
     "sourceType": "competition"
    }
   ],
   "dockerImageVersionId": 31089,
   "isGpuEnabled": false,
   "isInternetEnabled": true,
   "language": "python",
   "sourceType": "notebook"
  },
  "kernelspec": {
   "display_name": "Python 3",
   "language": "python",
   "name": "python3"
  },
  "language_info": {
   "codemirror_mode": {
    "name": "ipython",
    "version": 3
   },
   "file_extension": ".py",
   "mimetype": "text/x-python",
   "name": "python",
   "nbconvert_exporter": "python",
   "pygments_lexer": "ipython3",
   "version": "3.11.13"
  },
  "papermill": {
   "default_parameters": {},
   "duration": 57.610156,
   "end_time": "2025-09-15T14:20:29.345934",
   "environment_variables": {},
   "exception": null,
   "input_path": "__notebook__.ipynb",
   "output_path": "__notebook__.ipynb",
   "parameters": {},
   "start_time": "2025-09-15T14:19:31.735778",
   "version": "2.6.0"
  }
 },
 "nbformat": 4,
 "nbformat_minor": 5
}
