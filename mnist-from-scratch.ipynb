{
 "cells": [
  {
   "cell_type": "code",
   "execution_count": 1,
   "id": "29f7c807",
   "metadata": {
    "_cell_guid": "b1076dfc-b9ad-4769-8c92-a6c4dae69d19",
    "_uuid": "8f2839f25d086af736a60e9eeb907d3b93b6e0e5",
    "execution": {
     "iopub.execute_input": "2025-09-15T13:54:38.359370Z",
     "iopub.status.busy": "2025-09-15T13:54:38.359021Z",
     "iopub.status.idle": "2025-09-15T13:54:40.542412Z",
     "shell.execute_reply": "2025-09-15T13:54:40.541291Z"
    },
    "papermill": {
     "duration": 2.190452,
     "end_time": "2025-09-15T13:54:40.544508",
     "exception": false,
     "start_time": "2025-09-15T13:54:38.354056",
     "status": "completed"
    },
    "tags": []
   },
   "outputs": [],
   "source": [
    "import numpy as np\n",
    "import pandas as pd\n",
    "import matplotlib.pyplot as plt"
   ]
  },
  {
   "cell_type": "code",
   "execution_count": 2,
   "id": "43b0ecc5",
   "metadata": {
    "execution": {
     "iopub.execute_input": "2025-09-15T13:54:40.551634Z",
     "iopub.status.busy": "2025-09-15T13:54:40.551198Z",
     "iopub.status.idle": "2025-09-15T13:54:43.891799Z",
     "shell.execute_reply": "2025-09-15T13:54:43.890712Z"
    },
    "papermill": {
     "duration": 3.346002,
     "end_time": "2025-09-15T13:54:43.893661",
     "exception": false,
     "start_time": "2025-09-15T13:54:40.547659",
     "status": "completed"
    },
    "tags": []
   },
   "outputs": [],
   "source": [
    "dt = pd.read_csv('/kaggle/input/digit-recognizer/train.csv')"
   ]
  },
  {
   "cell_type": "code",
   "execution_count": 3,
   "id": "8d0b465b",
   "metadata": {
    "execution": {
     "iopub.execute_input": "2025-09-15T13:54:43.900716Z",
     "iopub.status.busy": "2025-09-15T13:54:43.900364Z",
     "iopub.status.idle": "2025-09-15T13:54:43.932538Z",
     "shell.execute_reply": "2025-09-15T13:54:43.931421Z"
    },
    "papermill": {
     "duration": 0.038238,
     "end_time": "2025-09-15T13:54:43.934631",
     "exception": false,
     "start_time": "2025-09-15T13:54:43.896393",
     "status": "completed"
    },
    "tags": []
   },
   "outputs": [
    {
     "data": {
      "text/html": [
       "<div>\n",
       "<style scoped>\n",
       "    .dataframe tbody tr th:only-of-type {\n",
       "        vertical-align: middle;\n",
       "    }\n",
       "\n",
       "    .dataframe tbody tr th {\n",
       "        vertical-align: top;\n",
       "    }\n",
       "\n",
       "    .dataframe thead th {\n",
       "        text-align: right;\n",
       "    }\n",
       "</style>\n",
       "<table border=\"1\" class=\"dataframe\">\n",
       "  <thead>\n",
       "    <tr style=\"text-align: right;\">\n",
       "      <th></th>\n",
       "      <th>label</th>\n",
       "      <th>pixel0</th>\n",
       "      <th>pixel1</th>\n",
       "      <th>pixel2</th>\n",
       "      <th>pixel3</th>\n",
       "      <th>pixel4</th>\n",
       "      <th>pixel5</th>\n",
       "      <th>pixel6</th>\n",
       "      <th>pixel7</th>\n",
       "      <th>pixel8</th>\n",
       "      <th>...</th>\n",
       "      <th>pixel774</th>\n",
       "      <th>pixel775</th>\n",
       "      <th>pixel776</th>\n",
       "      <th>pixel777</th>\n",
       "      <th>pixel778</th>\n",
       "      <th>pixel779</th>\n",
       "      <th>pixel780</th>\n",
       "      <th>pixel781</th>\n",
       "      <th>pixel782</th>\n",
       "      <th>pixel783</th>\n",
       "    </tr>\n",
       "  </thead>\n",
       "  <tbody>\n",
       "    <tr>\n",
       "      <th>0</th>\n",
       "      <td>1</td>\n",
       "      <td>0</td>\n",
       "      <td>0</td>\n",
       "      <td>0</td>\n",
       "      <td>0</td>\n",
       "      <td>0</td>\n",
       "      <td>0</td>\n",
       "      <td>0</td>\n",
       "      <td>0</td>\n",
       "      <td>0</td>\n",
       "      <td>...</td>\n",
       "      <td>0</td>\n",
       "      <td>0</td>\n",
       "      <td>0</td>\n",
       "      <td>0</td>\n",
       "      <td>0</td>\n",
       "      <td>0</td>\n",
       "      <td>0</td>\n",
       "      <td>0</td>\n",
       "      <td>0</td>\n",
       "      <td>0</td>\n",
       "    </tr>\n",
       "    <tr>\n",
       "      <th>1</th>\n",
       "      <td>0</td>\n",
       "      <td>0</td>\n",
       "      <td>0</td>\n",
       "      <td>0</td>\n",
       "      <td>0</td>\n",
       "      <td>0</td>\n",
       "      <td>0</td>\n",
       "      <td>0</td>\n",
       "      <td>0</td>\n",
       "      <td>0</td>\n",
       "      <td>...</td>\n",
       "      <td>0</td>\n",
       "      <td>0</td>\n",
       "      <td>0</td>\n",
       "      <td>0</td>\n",
       "      <td>0</td>\n",
       "      <td>0</td>\n",
       "      <td>0</td>\n",
       "      <td>0</td>\n",
       "      <td>0</td>\n",
       "      <td>0</td>\n",
       "    </tr>\n",
       "    <tr>\n",
       "      <th>2</th>\n",
       "      <td>1</td>\n",
       "      <td>0</td>\n",
       "      <td>0</td>\n",
       "      <td>0</td>\n",
       "      <td>0</td>\n",
       "      <td>0</td>\n",
       "      <td>0</td>\n",
       "      <td>0</td>\n",
       "      <td>0</td>\n",
       "      <td>0</td>\n",
       "      <td>...</td>\n",
       "      <td>0</td>\n",
       "      <td>0</td>\n",
       "      <td>0</td>\n",
       "      <td>0</td>\n",
       "      <td>0</td>\n",
       "      <td>0</td>\n",
       "      <td>0</td>\n",
       "      <td>0</td>\n",
       "      <td>0</td>\n",
       "      <td>0</td>\n",
       "    </tr>\n",
       "    <tr>\n",
       "      <th>3</th>\n",
       "      <td>4</td>\n",
       "      <td>0</td>\n",
       "      <td>0</td>\n",
       "      <td>0</td>\n",
       "      <td>0</td>\n",
       "      <td>0</td>\n",
       "      <td>0</td>\n",
       "      <td>0</td>\n",
       "      <td>0</td>\n",
       "      <td>0</td>\n",
       "      <td>...</td>\n",
       "      <td>0</td>\n",
       "      <td>0</td>\n",
       "      <td>0</td>\n",
       "      <td>0</td>\n",
       "      <td>0</td>\n",
       "      <td>0</td>\n",
       "      <td>0</td>\n",
       "      <td>0</td>\n",
       "      <td>0</td>\n",
       "      <td>0</td>\n",
       "    </tr>\n",
       "    <tr>\n",
       "      <th>4</th>\n",
       "      <td>0</td>\n",
       "      <td>0</td>\n",
       "      <td>0</td>\n",
       "      <td>0</td>\n",
       "      <td>0</td>\n",
       "      <td>0</td>\n",
       "      <td>0</td>\n",
       "      <td>0</td>\n",
       "      <td>0</td>\n",
       "      <td>0</td>\n",
       "      <td>...</td>\n",
       "      <td>0</td>\n",
       "      <td>0</td>\n",
       "      <td>0</td>\n",
       "      <td>0</td>\n",
       "      <td>0</td>\n",
       "      <td>0</td>\n",
       "      <td>0</td>\n",
       "      <td>0</td>\n",
       "      <td>0</td>\n",
       "      <td>0</td>\n",
       "    </tr>\n",
       "  </tbody>\n",
       "</table>\n",
       "<p>5 rows × 785 columns</p>\n",
       "</div>"
      ],
      "text/plain": [
       "   label  pixel0  pixel1  pixel2  pixel3  pixel4  pixel5  pixel6  pixel7  \\\n",
       "0      1       0       0       0       0       0       0       0       0   \n",
       "1      0       0       0       0       0       0       0       0       0   \n",
       "2      1       0       0       0       0       0       0       0       0   \n",
       "3      4       0       0       0       0       0       0       0       0   \n",
       "4      0       0       0       0       0       0       0       0       0   \n",
       "\n",
       "   pixel8  ...  pixel774  pixel775  pixel776  pixel777  pixel778  pixel779  \\\n",
       "0       0  ...         0         0         0         0         0         0   \n",
       "1       0  ...         0         0         0         0         0         0   \n",
       "2       0  ...         0         0         0         0         0         0   \n",
       "3       0  ...         0         0         0         0         0         0   \n",
       "4       0  ...         0         0         0         0         0         0   \n",
       "\n",
       "   pixel780  pixel781  pixel782  pixel783  \n",
       "0         0         0         0         0  \n",
       "1         0         0         0         0  \n",
       "2         0         0         0         0  \n",
       "3         0         0         0         0  \n",
       "4         0         0         0         0  \n",
       "\n",
       "[5 rows x 785 columns]"
      ]
     },
     "execution_count": 3,
     "metadata": {},
     "output_type": "execute_result"
    }
   ],
   "source": [
    "dt.head()"
   ]
  },
  {
   "cell_type": "code",
   "execution_count": 4,
   "id": "6dc6f59f",
   "metadata": {
    "execution": {
     "iopub.execute_input": "2025-09-15T13:54:43.941533Z",
     "iopub.status.busy": "2025-09-15T13:54:43.941232Z",
     "iopub.status.idle": "2025-09-15T13:54:43.948213Z",
     "shell.execute_reply": "2025-09-15T13:54:43.946843Z"
    },
    "papermill": {
     "duration": 0.012213,
     "end_time": "2025-09-15T13:54:43.949786",
     "exception": false,
     "start_time": "2025-09-15T13:54:43.937573",
     "status": "completed"
    },
    "tags": []
   },
   "outputs": [
    {
     "data": {
      "text/plain": [
       "(42000, 785)"
      ]
     },
     "execution_count": 4,
     "metadata": {},
     "output_type": "execute_result"
    }
   ],
   "source": [
    "dt.shape"
   ]
  },
  {
   "cell_type": "code",
   "execution_count": 5,
   "id": "48f1f362",
   "metadata": {
    "execution": {
     "iopub.execute_input": "2025-09-15T13:54:43.957920Z",
     "iopub.status.busy": "2025-09-15T13:54:43.956755Z",
     "iopub.status.idle": "2025-09-15T13:54:44.711461Z",
     "shell.execute_reply": "2025-09-15T13:54:44.710270Z"
    },
    "papermill": {
     "duration": 0.760505,
     "end_time": "2025-09-15T13:54:44.713398",
     "exception": false,
     "start_time": "2025-09-15T13:54:43.952893",
     "status": "completed"
    },
    "tags": []
   },
   "outputs": [],
   "source": [
    "data = np.array(dt)\n",
    "m, n = data.shape\n",
    "np.random.shuffle(data)\n",
    "\n",
    "data_test = data[0:1000].T\n",
    "Y_test = data_test[0]\n",
    "X_test = data_test[1:n]\n",
    "\n",
    "data_train = data[1000:m].T\n",
    "Y_train = data_train[0]\n",
    "X_train = data_train[1:n]"
   ]
  },
  {
   "cell_type": "code",
   "execution_count": 6,
   "id": "e66d8cf5",
   "metadata": {
    "execution": {
     "iopub.execute_input": "2025-09-15T13:54:44.721379Z",
     "iopub.status.busy": "2025-09-15T13:54:44.721013Z",
     "iopub.status.idle": "2025-09-15T13:54:44.729182Z",
     "shell.execute_reply": "2025-09-15T13:54:44.727767Z"
    },
    "papermill": {
     "duration": 0.014843,
     "end_time": "2025-09-15T13:54:44.731748",
     "exception": false,
     "start_time": "2025-09-15T13:54:44.716905",
     "status": "completed"
    },
    "tags": []
   },
   "outputs": [
    {
     "data": {
      "text/plain": [
       "(784,)"
      ]
     },
     "execution_count": 6,
     "metadata": {},
     "output_type": "execute_result"
    }
   ],
   "source": [
    "X_train[:,0].shape"
   ]
  },
  {
   "cell_type": "code",
   "execution_count": 7,
   "id": "57aa0f1a",
   "metadata": {
    "execution": {
     "iopub.execute_input": "2025-09-15T13:54:44.740527Z",
     "iopub.status.busy": "2025-09-15T13:54:44.739995Z",
     "iopub.status.idle": "2025-09-15T13:54:44.753539Z",
     "shell.execute_reply": "2025-09-15T13:54:44.751793Z"
    },
    "papermill": {
     "duration": 0.020711,
     "end_time": "2025-09-15T13:54:44.755958",
     "exception": false,
     "start_time": "2025-09-15T13:54:44.735247",
     "status": "completed"
    },
    "tags": []
   },
   "outputs": [],
   "source": [
    "def init_param():\n",
    "    W1 = np.random.rand(10, 784) -0.5\n",
    "    b1 = np.random.rand(10, 1) -0.5\n",
    "\n",
    "    W2 = np.random.rand(10, 10) -0.5\n",
    "    b2 = np.random.rand(10, 1) -0.5\n",
    "\n",
    "    return W1, b1, W2, b2\n",
    "\n",
    "def ReLu(X):\n",
    "    return np.maximum(0, X)\n",
    "\n",
    "def softmax(X):\n",
    "    return np.exp(Z)/ np.sum(exp(Z))\n",
    "\n",
    "def forward_prop(W1, b1, W2, b2, X):\n",
    "    Z1 = W1.dot(X) + b1\n",
    "    A1 = ReLu(Z1)\n",
    "\n",
    "    Z2 = W2.dot(A1) +b2\n",
    "    A2 = softmax(Z2)\n",
    "\n",
    "    return Z1, A1, Z2, A2\n",
    "\n",
    "\n",
    "def one_hot(Y):\n",
    "    one_hot_Y = np.zeros((Y.size, Y.max() +1))  #blank canvas (10, 10)\n",
    "    one_hot_Y[np.arrange(Y.size), Y] = 1\n",
    "    #one_hot_Y[0, Y[0]] = 1\n",
    "    #one_hot_Y[1, Y[1]] = 1\n",
    "    #...\n",
    "    #one_hot_Y[Y.size -1, Y[size-1]] = 1\n",
    "\n",
    "    one_hot_Y = one_hot_Y.T\n",
    "    return one_hot_Y\n",
    "\n",
    "def drv_relu(X):\n",
    "    return X >0\n",
    "\n",
    "def backward_prop(Z1, A1, Z2, A2, X, Y):\n",
    "    m = Y.size\n",
    "    one_hot_Y = one_hot(Y)\n",
    "    dZ2 = A2 - one_hot_Y\n",
    "    dW2 = 1/m * dZ2.dot(A1.T) \n",
    "    db2 = 1/m * np.sum(dZ2, 2)\n",
    "\n",
    "    dZ1 = W2.T.dot(dZ2) * drv_relu(Z1)\n",
    "    dW1 = 1/m * dZ1.dot(X.T)\n",
    "    db1 = 1/m * np.sum(dZ1, 2)\n",
    "\n",
    "    return dW1, db1, dW2, db2\n",
    "\n",
    "def update_param(W1, b1, W2, b2, dW1, db1, dW2, db2, a):\n",
    "    W1 = W1- a * dW1\n",
    "    b1 = b1 - a * db1\n",
    "    W2 = W2 - a * dW2\n",
    "    b2 = b2 - a * db2\n",
    "    \n",
    "    return W1, b1, W2, b2\n",
    "    \n",
    "    \n",
    "    \n",
    "    \n",
    "    "
   ]
  },
  {
   "cell_type": "code",
   "execution_count": 8,
   "id": "43cd2d53",
   "metadata": {
    "execution": {
     "iopub.execute_input": "2025-09-15T13:54:44.763848Z",
     "iopub.status.busy": "2025-09-15T13:54:44.763523Z",
     "iopub.status.idle": "2025-09-15T13:54:44.769459Z",
     "shell.execute_reply": "2025-09-15T13:54:44.768408Z"
    },
    "papermill": {
     "duration": 0.012013,
     "end_time": "2025-09-15T13:54:44.771103",
     "exception": false,
     "start_time": "2025-09-15T13:54:44.759090",
     "status": "completed"
    },
    "tags": []
   },
   "outputs": [],
   "source": [
    "def gradiant_decent(X, Y, iterations, a):\n",
    "    W1, b1, W2, b2 = init_param()\n",
    "\n",
    "    for i in range(iterarions):\n",
    "        Z1, A1, Z1, A2 = forward_prop(W1, b1, W2, b2, X)\n",
    "        dW1, db1, dW2, db2 = backward_prop(Z1, A1, Z1, A2, X, Y)\n",
    "        W1, b1, W2, b2 = update_param(W1, b1, W2, b2, dW1, db1, dW2, db2, a)\n",
    "    return W1, b1, W2, b2"
   ]
  },
  {
   "cell_type": "code",
   "execution_count": 9,
   "id": "38c9d217",
   "metadata": {
    "execution": {
     "iopub.execute_input": "2025-09-15T13:54:44.778051Z",
     "iopub.status.busy": "2025-09-15T13:54:44.777723Z",
     "iopub.status.idle": "2025-09-15T13:54:44.783169Z",
     "shell.execute_reply": "2025-09-15T13:54:44.782314Z"
    },
    "papermill": {
     "duration": 0.010385,
     "end_time": "2025-09-15T13:54:44.784486",
     "exception": false,
     "start_time": "2025-09-15T13:54:44.774101",
     "status": "completed"
    },
    "tags": []
   },
   "outputs": [],
   "source": [
    "def get_predictions(A2):\n",
    "    return np.argmax(A2, 0) #the index of the highest probability across columns.\n",
    "\n",
    "def get_accuracy(prediction, Y):\n",
    "    print(prediction, Y)\n",
    "    return np.sum(prediction == Y) / Y.size "
   ]
  }
 ],
 "metadata": {
  "kaggle": {
   "accelerator": "none",
   "dataSources": [
    {
     "databundleVersionId": 861823,
     "sourceId": 3004,
     "sourceType": "competition"
    }
   ],
   "dockerImageVersionId": 31089,
   "isGpuEnabled": false,
   "isInternetEnabled": true,
   "language": "python",
   "sourceType": "notebook"
  },
  "kernelspec": {
   "display_name": "Python 3",
   "language": "python",
   "name": "python3"
  },
  "language_info": {
   "codemirror_mode": {
    "name": "ipython",
    "version": 3
   },
   "file_extension": ".py",
   "mimetype": "text/x-python",
   "name": "python",
   "nbconvert_exporter": "python",
   "pygments_lexer": "ipython3",
   "version": "3.11.13"
  },
  "papermill": {
   "default_parameters": {},
   "duration": 13.57501,
   "end_time": "2025-09-15T13:54:45.408084",
   "environment_variables": {},
   "exception": null,
   "input_path": "__notebook__.ipynb",
   "output_path": "__notebook__.ipynb",
   "parameters": {},
   "start_time": "2025-09-15T13:54:31.833074",
   "version": "2.6.0"
  }
 },
 "nbformat": 4,
 "nbformat_minor": 5
}
