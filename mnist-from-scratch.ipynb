{
 "cells": [
  {
   "cell_type": "code",
   "execution_count": 1,
   "id": "b71c008e",
   "metadata": {
    "_cell_guid": "b1076dfc-b9ad-4769-8c92-a6c4dae69d19",
    "_uuid": "8f2839f25d086af736a60e9eeb907d3b93b6e0e5",
    "execution": {
     "iopub.execute_input": "2025-09-15T15:19:18.210359Z",
     "iopub.status.busy": "2025-09-15T15:19:18.209356Z",
     "iopub.status.idle": "2025-09-15T15:19:20.418363Z",
     "shell.execute_reply": "2025-09-15T15:19:20.417437Z"
    },
    "papermill": {
     "duration": 2.216331,
     "end_time": "2025-09-15T15:19:20.420759",
     "exception": false,
     "start_time": "2025-09-15T15:19:18.204428",
     "status": "completed"
    },
    "tags": []
   },
   "outputs": [],
   "source": [
    "import numpy as np\n",
    "import pandas as pd\n",
    "import matplotlib.pyplot as plt"
   ]
  },
  {
   "cell_type": "code",
   "execution_count": 2,
   "id": "9e388ee7",
   "metadata": {
    "execution": {
     "iopub.execute_input": "2025-09-15T15:19:20.428821Z",
     "iopub.status.busy": "2025-09-15T15:19:20.428295Z",
     "iopub.status.idle": "2025-09-15T15:19:24.628382Z",
     "shell.execute_reply": "2025-09-15T15:19:24.627540Z"
    },
    "papermill": {
     "duration": 4.205996,
     "end_time": "2025-09-15T15:19:24.630353",
     "exception": false,
     "start_time": "2025-09-15T15:19:20.424357",
     "status": "completed"
    },
    "tags": []
   },
   "outputs": [],
   "source": [
    "dt = pd.read_csv('/kaggle/input/digit-recognizer/train.csv')"
   ]
  },
  {
   "cell_type": "code",
   "execution_count": 3,
   "id": "3c081b8b",
   "metadata": {
    "execution": {
     "iopub.execute_input": "2025-09-15T15:19:24.637799Z",
     "iopub.status.busy": "2025-09-15T15:19:24.637416Z",
     "iopub.status.idle": "2025-09-15T15:19:24.667840Z",
     "shell.execute_reply": "2025-09-15T15:19:24.666805Z"
    },
    "papermill": {
     "duration": 0.035887,
     "end_time": "2025-09-15T15:19:24.669441",
     "exception": false,
     "start_time": "2025-09-15T15:19:24.633554",
     "status": "completed"
    },
    "tags": []
   },
   "outputs": [
    {
     "data": {
      "text/html": [
       "<div>\n",
       "<style scoped>\n",
       "    .dataframe tbody tr th:only-of-type {\n",
       "        vertical-align: middle;\n",
       "    }\n",
       "\n",
       "    .dataframe tbody tr th {\n",
       "        vertical-align: top;\n",
       "    }\n",
       "\n",
       "    .dataframe thead th {\n",
       "        text-align: right;\n",
       "    }\n",
       "</style>\n",
       "<table border=\"1\" class=\"dataframe\">\n",
       "  <thead>\n",
       "    <tr style=\"text-align: right;\">\n",
       "      <th></th>\n",
       "      <th>label</th>\n",
       "      <th>pixel0</th>\n",
       "      <th>pixel1</th>\n",
       "      <th>pixel2</th>\n",
       "      <th>pixel3</th>\n",
       "      <th>pixel4</th>\n",
       "      <th>pixel5</th>\n",
       "      <th>pixel6</th>\n",
       "      <th>pixel7</th>\n",
       "      <th>pixel8</th>\n",
       "      <th>...</th>\n",
       "      <th>pixel774</th>\n",
       "      <th>pixel775</th>\n",
       "      <th>pixel776</th>\n",
       "      <th>pixel777</th>\n",
       "      <th>pixel778</th>\n",
       "      <th>pixel779</th>\n",
       "      <th>pixel780</th>\n",
       "      <th>pixel781</th>\n",
       "      <th>pixel782</th>\n",
       "      <th>pixel783</th>\n",
       "    </tr>\n",
       "  </thead>\n",
       "  <tbody>\n",
       "    <tr>\n",
       "      <th>0</th>\n",
       "      <td>1</td>\n",
       "      <td>0</td>\n",
       "      <td>0</td>\n",
       "      <td>0</td>\n",
       "      <td>0</td>\n",
       "      <td>0</td>\n",
       "      <td>0</td>\n",
       "      <td>0</td>\n",
       "      <td>0</td>\n",
       "      <td>0</td>\n",
       "      <td>...</td>\n",
       "      <td>0</td>\n",
       "      <td>0</td>\n",
       "      <td>0</td>\n",
       "      <td>0</td>\n",
       "      <td>0</td>\n",
       "      <td>0</td>\n",
       "      <td>0</td>\n",
       "      <td>0</td>\n",
       "      <td>0</td>\n",
       "      <td>0</td>\n",
       "    </tr>\n",
       "    <tr>\n",
       "      <th>1</th>\n",
       "      <td>0</td>\n",
       "      <td>0</td>\n",
       "      <td>0</td>\n",
       "      <td>0</td>\n",
       "      <td>0</td>\n",
       "      <td>0</td>\n",
       "      <td>0</td>\n",
       "      <td>0</td>\n",
       "      <td>0</td>\n",
       "      <td>0</td>\n",
       "      <td>...</td>\n",
       "      <td>0</td>\n",
       "      <td>0</td>\n",
       "      <td>0</td>\n",
       "      <td>0</td>\n",
       "      <td>0</td>\n",
       "      <td>0</td>\n",
       "      <td>0</td>\n",
       "      <td>0</td>\n",
       "      <td>0</td>\n",
       "      <td>0</td>\n",
       "    </tr>\n",
       "    <tr>\n",
       "      <th>2</th>\n",
       "      <td>1</td>\n",
       "      <td>0</td>\n",
       "      <td>0</td>\n",
       "      <td>0</td>\n",
       "      <td>0</td>\n",
       "      <td>0</td>\n",
       "      <td>0</td>\n",
       "      <td>0</td>\n",
       "      <td>0</td>\n",
       "      <td>0</td>\n",
       "      <td>...</td>\n",
       "      <td>0</td>\n",
       "      <td>0</td>\n",
       "      <td>0</td>\n",
       "      <td>0</td>\n",
       "      <td>0</td>\n",
       "      <td>0</td>\n",
       "      <td>0</td>\n",
       "      <td>0</td>\n",
       "      <td>0</td>\n",
       "      <td>0</td>\n",
       "    </tr>\n",
       "    <tr>\n",
       "      <th>3</th>\n",
       "      <td>4</td>\n",
       "      <td>0</td>\n",
       "      <td>0</td>\n",
       "      <td>0</td>\n",
       "      <td>0</td>\n",
       "      <td>0</td>\n",
       "      <td>0</td>\n",
       "      <td>0</td>\n",
       "      <td>0</td>\n",
       "      <td>0</td>\n",
       "      <td>...</td>\n",
       "      <td>0</td>\n",
       "      <td>0</td>\n",
       "      <td>0</td>\n",
       "      <td>0</td>\n",
       "      <td>0</td>\n",
       "      <td>0</td>\n",
       "      <td>0</td>\n",
       "      <td>0</td>\n",
       "      <td>0</td>\n",
       "      <td>0</td>\n",
       "    </tr>\n",
       "    <tr>\n",
       "      <th>4</th>\n",
       "      <td>0</td>\n",
       "      <td>0</td>\n",
       "      <td>0</td>\n",
       "      <td>0</td>\n",
       "      <td>0</td>\n",
       "      <td>0</td>\n",
       "      <td>0</td>\n",
       "      <td>0</td>\n",
       "      <td>0</td>\n",
       "      <td>0</td>\n",
       "      <td>...</td>\n",
       "      <td>0</td>\n",
       "      <td>0</td>\n",
       "      <td>0</td>\n",
       "      <td>0</td>\n",
       "      <td>0</td>\n",
       "      <td>0</td>\n",
       "      <td>0</td>\n",
       "      <td>0</td>\n",
       "      <td>0</td>\n",
       "      <td>0</td>\n",
       "    </tr>\n",
       "  </tbody>\n",
       "</table>\n",
       "<p>5 rows × 785 columns</p>\n",
       "</div>"
      ],
      "text/plain": [
       "   label  pixel0  pixel1  pixel2  pixel3  pixel4  pixel5  pixel6  pixel7  \\\n",
       "0      1       0       0       0       0       0       0       0       0   \n",
       "1      0       0       0       0       0       0       0       0       0   \n",
       "2      1       0       0       0       0       0       0       0       0   \n",
       "3      4       0       0       0       0       0       0       0       0   \n",
       "4      0       0       0       0       0       0       0       0       0   \n",
       "\n",
       "   pixel8  ...  pixel774  pixel775  pixel776  pixel777  pixel778  pixel779  \\\n",
       "0       0  ...         0         0         0         0         0         0   \n",
       "1       0  ...         0         0         0         0         0         0   \n",
       "2       0  ...         0         0         0         0         0         0   \n",
       "3       0  ...         0         0         0         0         0         0   \n",
       "4       0  ...         0         0         0         0         0         0   \n",
       "\n",
       "   pixel780  pixel781  pixel782  pixel783  \n",
       "0         0         0         0         0  \n",
       "1         0         0         0         0  \n",
       "2         0         0         0         0  \n",
       "3         0         0         0         0  \n",
       "4         0         0         0         0  \n",
       "\n",
       "[5 rows x 785 columns]"
      ]
     },
     "execution_count": 3,
     "metadata": {},
     "output_type": "execute_result"
    }
   ],
   "source": [
    "dt.head()"
   ]
  },
  {
   "cell_type": "code",
   "execution_count": 4,
   "id": "18cc4cfe",
   "metadata": {
    "execution": {
     "iopub.execute_input": "2025-09-15T15:19:24.677388Z",
     "iopub.status.busy": "2025-09-15T15:19:24.677033Z",
     "iopub.status.idle": "2025-09-15T15:19:24.683372Z",
     "shell.execute_reply": "2025-09-15T15:19:24.682387Z"
    },
    "papermill": {
     "duration": 0.012015,
     "end_time": "2025-09-15T15:19:24.684855",
     "exception": false,
     "start_time": "2025-09-15T15:19:24.672840",
     "status": "completed"
    },
    "tags": []
   },
   "outputs": [
    {
     "data": {
      "text/plain": [
       "(42000, 785)"
      ]
     },
     "execution_count": 4,
     "metadata": {},
     "output_type": "execute_result"
    }
   ],
   "source": [
    "dt.shape"
   ]
  },
  {
   "cell_type": "code",
   "execution_count": 5,
   "id": "9ccd334f",
   "metadata": {
    "execution": {
     "iopub.execute_input": "2025-09-15T15:19:24.693158Z",
     "iopub.status.busy": "2025-09-15T15:19:24.692316Z",
     "iopub.status.idle": "2025-09-15T15:19:25.881494Z",
     "shell.execute_reply": "2025-09-15T15:19:25.880554Z"
    },
    "papermill": {
     "duration": 1.195475,
     "end_time": "2025-09-15T15:19:25.883724",
     "exception": false,
     "start_time": "2025-09-15T15:19:24.688249",
     "status": "completed"
    },
    "tags": []
   },
   "outputs": [],
   "source": [
    "data = np.array(dt)\n",
    "m, n = data.shape\n",
    "np.random.shuffle(data)\n",
    "\n",
    "data_test = data[0:1000].T\n",
    "Y_test = data_test[0]\n",
    "X_test = data_test[1:n]\n",
    "X_test = X_test / 255  \n",
    "\n",
    "data_train = data[1000:m].T\n",
    "Y_train = data_train[0]\n",
    "X_train = data_train[1:n]\n",
    "X_train = X_train / 255 # NORMALIZE for better trai"
   ]
  },
  {
   "cell_type": "code",
   "execution_count": 6,
   "id": "e779bd94",
   "metadata": {
    "execution": {
     "iopub.execute_input": "2025-09-15T15:19:25.892428Z",
     "iopub.status.busy": "2025-09-15T15:19:25.892080Z",
     "iopub.status.idle": "2025-09-15T15:19:25.898406Z",
     "shell.execute_reply": "2025-09-15T15:19:25.897531Z"
    },
    "papermill": {
     "duration": 0.012594,
     "end_time": "2025-09-15T15:19:25.900193",
     "exception": false,
     "start_time": "2025-09-15T15:19:25.887599",
     "status": "completed"
    },
    "tags": []
   },
   "outputs": [
    {
     "data": {
      "text/plain": [
       "(784,)"
      ]
     },
     "execution_count": 6,
     "metadata": {},
     "output_type": "execute_result"
    }
   ],
   "source": [
    "X_train[:,0].shape"
   ]
  },
  {
   "cell_type": "code",
   "execution_count": 7,
   "id": "93e29f15",
   "metadata": {
    "execution": {
     "iopub.execute_input": "2025-09-15T15:19:25.908303Z",
     "iopub.status.busy": "2025-09-15T15:19:25.907935Z",
     "iopub.status.idle": "2025-09-15T15:19:25.920923Z",
     "shell.execute_reply": "2025-09-15T15:19:25.919897Z"
    },
    "papermill": {
     "duration": 0.019046,
     "end_time": "2025-09-15T15:19:25.922558",
     "exception": false,
     "start_time": "2025-09-15T15:19:25.903512",
     "status": "completed"
    },
    "tags": []
   },
   "outputs": [],
   "source": [
    "def init_param():\n",
    "    W1 = np.random.randn(128, 784) * 0.01 # scaling weights approprately & increase size\n",
    "    b1 = np.zeros((128,1))\n",
    "\n",
    "    W2 = np.random.randn(64, 128) * 0.01 # adding second layer (64 neurons)\n",
    "    b2 = np.zeros((64,1))\n",
    "\n",
    "    W3 = np.random.randn(10, 64) * 0.01 # output\n",
    "    b3 = np.zeros((10,1))\n",
    "\n",
    "    return W1, b1, W2, b2, W3, b3\n",
    "\n",
    "def ReLu(X):\n",
    "    return np.maximum(0, X)\n",
    "\n",
    "def softmax(Z):\n",
    "    #STABLE SOFTMAX\n",
    "    Z_shifted = Z - np.max(Z, axis=0, keepdims=True)\n",
    "    exp_Z = np.exp(Z_shifted)\n",
    "    return exp_Z / np.sum(exp_Z, axis=0, keepdims=True)\n",
    "\n",
    "def forward_prop(W1, b1, W2, b2, W3, b3, X):\n",
    "    Z1 = W1.dot(X) + b1\n",
    "    A1 = ReLu(Z1)\n",
    "\n",
    "    Z2 = W2.dot(A1) +b2\n",
    "    A2 = softmax(Z2)\n",
    "\n",
    "    Z3 = W3.dot(A2) +b3\n",
    "    A3 = softmax(Z3)\n",
    "\n",
    "    return Z1, A1, Z2, A2, Z3, A3\n",
    "\n",
    "\n",
    "def one_hot(Y):\n",
    "    one_hot_Y = np.zeros((Y.size, 10))  #blank canvas (10, 10)\n",
    "    one_hot_Y[np.arange(Y.size), Y] = 1\n",
    "    #one_hot_Y[0, Y[0]] = 1\n",
    "    #one_hot_Y[1, Y[1]] = 1\n",
    "    #...\n",
    "    #one_hot_Y[Y.size -1, Y[size-1]] = 1\n",
    "\n",
    "    one_hot_Y = one_hot_Y.T\n",
    "    return one_hot_Y\n",
    "\n",
    "def drv_relu(X):\n",
    "    return (X > 0).astype(float)\n",
    "\n",
    "def backward_prop(Z1, A1, Z2, A2, Z3, A3, W2, W3, X, Y):\n",
    "    m = Y.size\n",
    "    one_hot_Y = one_hot(Y)\n",
    "\n",
    "    dZ3 = A3 - one_hot_Y\n",
    "    dW3 = 1/m * dZ3.dot(A2.T)\n",
    "    db3 = 1/m * np.sum(dZ3, axis=1, keepdims=True)\n",
    "    \n",
    "    dZ2 = W3.T.dot(dZ3) * drv_relu(Z2)\n",
    "    dW2 = 1/m * dZ2.dot(A1.T) \n",
    "    db2 = 1/m * np.sum(dZ2, axis=1, keepdims=True)\n",
    "\n",
    "    \n",
    "    dZ1 = W2.T.dot(dZ2) * drv_relu(Z1)\n",
    "    dW1 = 1/m * dZ1.dot(X.T)\n",
    "    db1 = 1/m * np.sum(dZ1, axis=1, keepdims=True)\n",
    "\n",
    "    return dW1, db1, dW2, db2, dW3, db3\n",
    "\n",
    "def update_param(W1, b1, W2, b2, W3, b3, dW1, db1, dW2, db2, dW3, db3, a):\n",
    "    W1 = W1- a * dW1\n",
    "    b1 = b1 - a * db1\n",
    "    \n",
    "    W2 = W2 - a * dW2\n",
    "    b2 = b2 - a * db2\n",
    "\n",
    "    W3 = W3 - a * dW3\n",
    "    b3 = b3 - a * db3\n",
    "    \n",
    "    return W1, b1, W2, b2, W3, b3    \n",
    "    \n",
    "    \n",
    "    \n",
    "    "
   ]
  },
  {
   "cell_type": "code",
   "execution_count": 8,
   "id": "e6a0d963",
   "metadata": {
    "execution": {
     "iopub.execute_input": "2025-09-15T15:19:25.930527Z",
     "iopub.status.busy": "2025-09-15T15:19:25.930133Z",
     "iopub.status.idle": "2025-09-15T15:19:25.936642Z",
     "shell.execute_reply": "2025-09-15T15:19:25.935633Z"
    },
    "papermill": {
     "duration": 0.01238,
     "end_time": "2025-09-15T15:19:25.938345",
     "exception": false,
     "start_time": "2025-09-15T15:19:25.925965",
     "status": "completed"
    },
    "tags": []
   },
   "outputs": [],
   "source": [
    "def get_predictions(A3):\n",
    "    return np.argmax(A3, 0) #the index of the highest probability across columns.\n",
    "\n",
    "def get_accuracy(prediction, Y):\n",
    "    if len(prediction) > 10:\n",
    "        print(\"Predictions:\", prediction[:10], \"True:\", Y[:10])\n",
    "    else:\n",
    "        print(\"Predictions:\", prediction, \"True:\", Y)\n",
    "    return np.sum(prediction == Y) / Y.size\n",
    "    return np.sum(prediction == Y) / Y.size # (Number of Correct) / (Total Number)"
   ]
  },
  {
   "cell_type": "code",
   "execution_count": 9,
   "id": "d0b19996",
   "metadata": {
    "execution": {
     "iopub.execute_input": "2025-09-15T15:19:25.947176Z",
     "iopub.status.busy": "2025-09-15T15:19:25.946317Z",
     "iopub.status.idle": "2025-09-15T15:19:25.955009Z",
     "shell.execute_reply": "2025-09-15T15:19:25.953109Z"
    },
    "papermill": {
     "duration": 0.015079,
     "end_time": "2025-09-15T15:19:25.956981",
     "exception": false,
     "start_time": "2025-09-15T15:19:25.941902",
     "status": "completed"
    },
    "tags": []
   },
   "outputs": [],
   "source": [
    "def gradiant_decent(X, Y, iterations, a):\n",
    "    W1, b1, W2, b2, W3, b3 = init_param()\n",
    "\n",
    "    for i in range(iterations):\n",
    "        # Learing rate decay\n",
    "        learning_rate = a * (0.95 ** (i//50)) # reduce 5% every 50 itrs\n",
    "        \n",
    "        Z1, A1, Z2, A2, Z3, A3 = forward_prop(W1, b1, W2, b2, W3, b3, X)\n",
    "        dW1, db1, dW2, db2, dW3, db3 = backward_prop(Z1, A1, Z2, A2, Z3, A3, W2, W3, X, Y)\n",
    "        W1, b1, W2, b2, W3, b3 = update_param(W1, b1, W2, b2, W3, b3, dW1, db1, dW2, db2, dW3, db3, learning_rate)\n",
    "\n",
    "        if (i % 10 == 0):\n",
    "            print(f'Iteration: {i}, Learning rate: {learning_rate:.6f}')\n",
    "            print('accuracy : ', get_accuracy(get_predictions(A3), Y))\n",
    "    return W1, b1, W2, b2, W3, b3"
   ]
  },
  {
   "cell_type": "code",
   "execution_count": 10,
   "id": "dde4f9e9",
   "metadata": {
    "execution": {
     "iopub.execute_input": "2025-09-15T15:19:25.965273Z",
     "iopub.status.busy": "2025-09-15T15:19:25.964818Z",
     "iopub.status.idle": "2025-09-15T15:21:16.307915Z",
     "shell.execute_reply": "2025-09-15T15:21:16.306592Z"
    },
    "papermill": {
     "duration": 110.349514,
     "end_time": "2025-09-15T15:21:16.310137",
     "exception": false,
     "start_time": "2025-09-15T15:19:25.960623",
     "status": "completed"
    },
    "tags": []
   },
   "outputs": [
    {
     "name": "stdout",
     "output_type": "stream",
     "text": [
      "Iteration: 0, Learning rate: 0.001000\n",
      "Predictions: [4 4 4 4 4 4 4 4 4 4] True: [1 5 8 3 0 0 1 7 8 2]\n",
      "accuracy :  0.0966829268292683\n",
      "Iteration: 10, Learning rate: 0.001000\n",
      "Predictions: [4 4 4 4 4 4 4 4 4 4] True: [1 5 8 3 0 0 1 7 8 2]\n",
      "accuracy :  0.0966829268292683\n",
      "Iteration: 20, Learning rate: 0.001000\n",
      "Predictions: [4 4 4 4 4 4 4 4 4 4] True: [1 5 8 3 0 0 1 7 8 2]\n",
      "accuracy :  0.0966829268292683\n",
      "Iteration: 30, Learning rate: 0.001000\n",
      "Predictions: [4 4 4 4 4 4 4 4 4 4] True: [1 5 8 3 0 0 1 7 8 2]\n",
      "accuracy :  0.0966829268292683\n",
      "Iteration: 40, Learning rate: 0.001000\n",
      "Predictions: [7 7 7 7 7 7 7 7 7 7] True: [1 5 8 3 0 0 1 7 8 2]\n",
      "accuracy :  0.10482926829268292\n",
      "Iteration: 50, Learning rate: 0.000950\n",
      "Predictions: [7 7 7 7 7 7 7 7 7 7] True: [1 5 8 3 0 0 1 7 8 2]\n",
      "accuracy :  0.10482926829268292\n",
      "Iteration: 60, Learning rate: 0.000950\n",
      "Predictions: [7 7 7 7 7 7 7 7 7 7] True: [1 5 8 3 0 0 1 7 8 2]\n",
      "accuracy :  0.10482926829268292\n",
      "Iteration: 70, Learning rate: 0.000950\n",
      "Predictions: [7 7 7 7 7 7 7 7 7 7] True: [1 5 8 3 0 0 1 7 8 2]\n",
      "accuracy :  0.10482926829268292\n",
      "Iteration: 80, Learning rate: 0.000950\n",
      "Predictions: [7 7 7 7 7 7 7 7 7 7] True: [1 5 8 3 0 0 1 7 8 2]\n",
      "accuracy :  0.10482926829268292\n",
      "Iteration: 90, Learning rate: 0.000950\n",
      "Predictions: [7 7 7 7 7 7 7 7 7 7] True: [1 5 8 3 0 0 1 7 8 2]\n",
      "accuracy :  0.10482926829268292\n",
      "Iteration: 100, Learning rate: 0.000902\n",
      "Predictions: [7 7 7 7 7 7 7 7 7 7] True: [1 5 8 3 0 0 1 7 8 2]\n",
      "accuracy :  0.10482926829268292\n",
      "Iteration: 110, Learning rate: 0.000902\n",
      "Predictions: [7 7 7 7 7 7 7 7 7 7] True: [1 5 8 3 0 0 1 7 8 2]\n",
      "accuracy :  0.10482926829268292\n",
      "Iteration: 120, Learning rate: 0.000902\n",
      "Predictions: [7 7 7 7 7 7 7 7 7 7] True: [1 5 8 3 0 0 1 7 8 2]\n",
      "accuracy :  0.10482926829268292\n",
      "Iteration: 130, Learning rate: 0.000902\n",
      "Predictions: [7 7 7 7 7 7 7 7 7 7] True: [1 5 8 3 0 0 1 7 8 2]\n",
      "accuracy :  0.10482926829268292\n",
      "Iteration: 140, Learning rate: 0.000902\n",
      "Predictions: [7 7 7 7 7 7 7 7 7 7] True: [1 5 8 3 0 0 1 7 8 2]\n",
      "accuracy :  0.10482926829268292\n",
      "Iteration: 150, Learning rate: 0.000857\n",
      "Predictions: [7 7 7 7 7 7 7 7 7 7] True: [1 5 8 3 0 0 1 7 8 2]\n",
      "accuracy :  0.10482926829268292\n",
      "Iteration: 160, Learning rate: 0.000857\n",
      "Predictions: [7 7 7 7 7 7 7 7 7 7] True: [1 5 8 3 0 0 1 7 8 2]\n",
      "accuracy :  0.10482926829268292\n",
      "Iteration: 170, Learning rate: 0.000857\n",
      "Predictions: [7 7 7 7 7 7 7 7 7 7] True: [1 5 8 3 0 0 1 7 8 2]\n",
      "accuracy :  0.10482926829268292\n",
      "Iteration: 180, Learning rate: 0.000857\n",
      "Predictions: [7 7 7 7 7 7 7 7 7 7] True: [1 5 8 3 0 0 1 7 8 2]\n",
      "accuracy :  0.10482926829268292\n",
      "Iteration: 190, Learning rate: 0.000857\n",
      "Predictions: [7 7 7 7 7 7 7 7 7 7] True: [1 5 8 3 0 0 1 7 8 2]\n",
      "accuracy :  0.10482926829268292\n"
     ]
    }
   ],
   "source": [
    "W1, b1, W2, b2, W3, b3 = gradiant_decent(X_train, Y_train, 200, 0.001)"
   ]
  }
 ],
 "metadata": {
  "kaggle": {
   "accelerator": "none",
   "dataSources": [
    {
     "databundleVersionId": 861823,
     "sourceId": 3004,
     "sourceType": "competition"
    }
   ],
   "dockerImageVersionId": 31089,
   "isGpuEnabled": false,
   "isInternetEnabled": true,
   "language": "python",
   "sourceType": "notebook"
  },
  "kernelspec": {
   "display_name": "Python 3",
   "language": "python",
   "name": "python3"
  },
  "language_info": {
   "codemirror_mode": {
    "name": "ipython",
    "version": 3
   },
   "file_extension": ".py",
   "mimetype": "text/x-python",
   "name": "python",
   "nbconvert_exporter": "python",
   "pygments_lexer": "ipython3",
   "version": "3.11.13"
  },
  "papermill": {
   "default_parameters": {},
   "duration": 124.923976,
   "end_time": "2025-09-15T15:21:17.139389",
   "environment_variables": {},
   "exception": null,
   "input_path": "__notebook__.ipynb",
   "output_path": "__notebook__.ipynb",
   "parameters": {},
   "start_time": "2025-09-15T15:19:12.215413",
   "version": "2.6.0"
  }
 },
 "nbformat": 4,
 "nbformat_minor": 5
}
