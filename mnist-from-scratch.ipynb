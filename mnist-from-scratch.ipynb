{
 "cells": [
  {
   "cell_type": "code",
   "execution_count": 1,
   "id": "c80571a5",
   "metadata": {
    "_cell_guid": "b1076dfc-b9ad-4769-8c92-a6c4dae69d19",
    "_uuid": "8f2839f25d086af736a60e9eeb907d3b93b6e0e5",
    "execution": {
     "iopub.execute_input": "2025-09-15T14:48:39.447133Z",
     "iopub.status.busy": "2025-09-15T14:48:39.446668Z",
     "iopub.status.idle": "2025-09-15T14:48:41.719897Z",
     "shell.execute_reply": "2025-09-15T14:48:41.718689Z"
    },
    "papermill": {
     "duration": 2.280456,
     "end_time": "2025-09-15T14:48:41.722019",
     "exception": false,
     "start_time": "2025-09-15T14:48:39.441563",
     "status": "completed"
    },
    "tags": []
   },
   "outputs": [],
   "source": [
    "import numpy as np\n",
    "import pandas as pd\n",
    "import matplotlib.pyplot as plt"
   ]
  },
  {
   "cell_type": "code",
   "execution_count": 2,
   "id": "4912d545",
   "metadata": {
    "execution": {
     "iopub.execute_input": "2025-09-15T14:48:41.729808Z",
     "iopub.status.busy": "2025-09-15T14:48:41.729371Z",
     "iopub.status.idle": "2025-09-15T14:48:44.882999Z",
     "shell.execute_reply": "2025-09-15T14:48:44.881863Z"
    },
    "papermill": {
     "duration": 3.159421,
     "end_time": "2025-09-15T14:48:44.884996",
     "exception": false,
     "start_time": "2025-09-15T14:48:41.725575",
     "status": "completed"
    },
    "tags": []
   },
   "outputs": [],
   "source": [
    "dt = pd.read_csv('/kaggle/input/digit-recognizer/train.csv')"
   ]
  },
  {
   "cell_type": "code",
   "execution_count": 3,
   "id": "9b97f6c8",
   "metadata": {
    "execution": {
     "iopub.execute_input": "2025-09-15T14:48:44.892983Z",
     "iopub.status.busy": "2025-09-15T14:48:44.892606Z",
     "iopub.status.idle": "2025-09-15T14:48:44.926121Z",
     "shell.execute_reply": "2025-09-15T14:48:44.924980Z"
    },
    "papermill": {
     "duration": 0.039802,
     "end_time": "2025-09-15T14:48:44.928364",
     "exception": false,
     "start_time": "2025-09-15T14:48:44.888562",
     "status": "completed"
    },
    "tags": []
   },
   "outputs": [
    {
     "data": {
      "text/html": [
       "<div>\n",
       "<style scoped>\n",
       "    .dataframe tbody tr th:only-of-type {\n",
       "        vertical-align: middle;\n",
       "    }\n",
       "\n",
       "    .dataframe tbody tr th {\n",
       "        vertical-align: top;\n",
       "    }\n",
       "\n",
       "    .dataframe thead th {\n",
       "        text-align: right;\n",
       "    }\n",
       "</style>\n",
       "<table border=\"1\" class=\"dataframe\">\n",
       "  <thead>\n",
       "    <tr style=\"text-align: right;\">\n",
       "      <th></th>\n",
       "      <th>label</th>\n",
       "      <th>pixel0</th>\n",
       "      <th>pixel1</th>\n",
       "      <th>pixel2</th>\n",
       "      <th>pixel3</th>\n",
       "      <th>pixel4</th>\n",
       "      <th>pixel5</th>\n",
       "      <th>pixel6</th>\n",
       "      <th>pixel7</th>\n",
       "      <th>pixel8</th>\n",
       "      <th>...</th>\n",
       "      <th>pixel774</th>\n",
       "      <th>pixel775</th>\n",
       "      <th>pixel776</th>\n",
       "      <th>pixel777</th>\n",
       "      <th>pixel778</th>\n",
       "      <th>pixel779</th>\n",
       "      <th>pixel780</th>\n",
       "      <th>pixel781</th>\n",
       "      <th>pixel782</th>\n",
       "      <th>pixel783</th>\n",
       "    </tr>\n",
       "  </thead>\n",
       "  <tbody>\n",
       "    <tr>\n",
       "      <th>0</th>\n",
       "      <td>1</td>\n",
       "      <td>0</td>\n",
       "      <td>0</td>\n",
       "      <td>0</td>\n",
       "      <td>0</td>\n",
       "      <td>0</td>\n",
       "      <td>0</td>\n",
       "      <td>0</td>\n",
       "      <td>0</td>\n",
       "      <td>0</td>\n",
       "      <td>...</td>\n",
       "      <td>0</td>\n",
       "      <td>0</td>\n",
       "      <td>0</td>\n",
       "      <td>0</td>\n",
       "      <td>0</td>\n",
       "      <td>0</td>\n",
       "      <td>0</td>\n",
       "      <td>0</td>\n",
       "      <td>0</td>\n",
       "      <td>0</td>\n",
       "    </tr>\n",
       "    <tr>\n",
       "      <th>1</th>\n",
       "      <td>0</td>\n",
       "      <td>0</td>\n",
       "      <td>0</td>\n",
       "      <td>0</td>\n",
       "      <td>0</td>\n",
       "      <td>0</td>\n",
       "      <td>0</td>\n",
       "      <td>0</td>\n",
       "      <td>0</td>\n",
       "      <td>0</td>\n",
       "      <td>...</td>\n",
       "      <td>0</td>\n",
       "      <td>0</td>\n",
       "      <td>0</td>\n",
       "      <td>0</td>\n",
       "      <td>0</td>\n",
       "      <td>0</td>\n",
       "      <td>0</td>\n",
       "      <td>0</td>\n",
       "      <td>0</td>\n",
       "      <td>0</td>\n",
       "    </tr>\n",
       "    <tr>\n",
       "      <th>2</th>\n",
       "      <td>1</td>\n",
       "      <td>0</td>\n",
       "      <td>0</td>\n",
       "      <td>0</td>\n",
       "      <td>0</td>\n",
       "      <td>0</td>\n",
       "      <td>0</td>\n",
       "      <td>0</td>\n",
       "      <td>0</td>\n",
       "      <td>0</td>\n",
       "      <td>...</td>\n",
       "      <td>0</td>\n",
       "      <td>0</td>\n",
       "      <td>0</td>\n",
       "      <td>0</td>\n",
       "      <td>0</td>\n",
       "      <td>0</td>\n",
       "      <td>0</td>\n",
       "      <td>0</td>\n",
       "      <td>0</td>\n",
       "      <td>0</td>\n",
       "    </tr>\n",
       "    <tr>\n",
       "      <th>3</th>\n",
       "      <td>4</td>\n",
       "      <td>0</td>\n",
       "      <td>0</td>\n",
       "      <td>0</td>\n",
       "      <td>0</td>\n",
       "      <td>0</td>\n",
       "      <td>0</td>\n",
       "      <td>0</td>\n",
       "      <td>0</td>\n",
       "      <td>0</td>\n",
       "      <td>...</td>\n",
       "      <td>0</td>\n",
       "      <td>0</td>\n",
       "      <td>0</td>\n",
       "      <td>0</td>\n",
       "      <td>0</td>\n",
       "      <td>0</td>\n",
       "      <td>0</td>\n",
       "      <td>0</td>\n",
       "      <td>0</td>\n",
       "      <td>0</td>\n",
       "    </tr>\n",
       "    <tr>\n",
       "      <th>4</th>\n",
       "      <td>0</td>\n",
       "      <td>0</td>\n",
       "      <td>0</td>\n",
       "      <td>0</td>\n",
       "      <td>0</td>\n",
       "      <td>0</td>\n",
       "      <td>0</td>\n",
       "      <td>0</td>\n",
       "      <td>0</td>\n",
       "      <td>0</td>\n",
       "      <td>...</td>\n",
       "      <td>0</td>\n",
       "      <td>0</td>\n",
       "      <td>0</td>\n",
       "      <td>0</td>\n",
       "      <td>0</td>\n",
       "      <td>0</td>\n",
       "      <td>0</td>\n",
       "      <td>0</td>\n",
       "      <td>0</td>\n",
       "      <td>0</td>\n",
       "    </tr>\n",
       "  </tbody>\n",
       "</table>\n",
       "<p>5 rows × 785 columns</p>\n",
       "</div>"
      ],
      "text/plain": [
       "   label  pixel0  pixel1  pixel2  pixel3  pixel4  pixel5  pixel6  pixel7  \\\n",
       "0      1       0       0       0       0       0       0       0       0   \n",
       "1      0       0       0       0       0       0       0       0       0   \n",
       "2      1       0       0       0       0       0       0       0       0   \n",
       "3      4       0       0       0       0       0       0       0       0   \n",
       "4      0       0       0       0       0       0       0       0       0   \n",
       "\n",
       "   pixel8  ...  pixel774  pixel775  pixel776  pixel777  pixel778  pixel779  \\\n",
       "0       0  ...         0         0         0         0         0         0   \n",
       "1       0  ...         0         0         0         0         0         0   \n",
       "2       0  ...         0         0         0         0         0         0   \n",
       "3       0  ...         0         0         0         0         0         0   \n",
       "4       0  ...         0         0         0         0         0         0   \n",
       "\n",
       "   pixel780  pixel781  pixel782  pixel783  \n",
       "0         0         0         0         0  \n",
       "1         0         0         0         0  \n",
       "2         0         0         0         0  \n",
       "3         0         0         0         0  \n",
       "4         0         0         0         0  \n",
       "\n",
       "[5 rows x 785 columns]"
      ]
     },
     "execution_count": 3,
     "metadata": {},
     "output_type": "execute_result"
    }
   ],
   "source": [
    "dt.head()"
   ]
  },
  {
   "cell_type": "code",
   "execution_count": 4,
   "id": "a894db2c",
   "metadata": {
    "execution": {
     "iopub.execute_input": "2025-09-15T14:48:44.936951Z",
     "iopub.status.busy": "2025-09-15T14:48:44.936365Z",
     "iopub.status.idle": "2025-09-15T14:48:44.944882Z",
     "shell.execute_reply": "2025-09-15T14:48:44.943490Z"
    },
    "papermill": {
     "duration": 0.015035,
     "end_time": "2025-09-15T14:48:44.946919",
     "exception": false,
     "start_time": "2025-09-15T14:48:44.931884",
     "status": "completed"
    },
    "tags": []
   },
   "outputs": [
    {
     "data": {
      "text/plain": [
       "(42000, 785)"
      ]
     },
     "execution_count": 4,
     "metadata": {},
     "output_type": "execute_result"
    }
   ],
   "source": [
    "dt.shape"
   ]
  },
  {
   "cell_type": "code",
   "execution_count": 5,
   "id": "2eb6ae0b",
   "metadata": {
    "execution": {
     "iopub.execute_input": "2025-09-15T14:48:44.955312Z",
     "iopub.status.busy": "2025-09-15T14:48:44.954976Z",
     "iopub.status.idle": "2025-09-15T14:48:45.850945Z",
     "shell.execute_reply": "2025-09-15T14:48:45.849671Z"
    },
    "papermill": {
     "duration": 0.902352,
     "end_time": "2025-09-15T14:48:45.852905",
     "exception": false,
     "start_time": "2025-09-15T14:48:44.950553",
     "status": "completed"
    },
    "tags": []
   },
   "outputs": [],
   "source": [
    "data = np.array(dt)\n",
    "m, n = data.shape\n",
    "np.random.shuffle(data)\n",
    "\n",
    "data_test = data[0:1000].T\n",
    "Y_test = data_test[0]\n",
    "X_test = data_test[1:n]\n",
    "X_test = X_test / 255  \n",
    "\n",
    "data_train = data[1000:m].T\n",
    "Y_train = data_train[0]\n",
    "X_train = data_train[1:n]\n",
    "X_train = X_train / 255 # NORMALIZE for better trai"
   ]
  },
  {
   "cell_type": "code",
   "execution_count": 6,
   "id": "6d871b33",
   "metadata": {
    "execution": {
     "iopub.execute_input": "2025-09-15T14:48:45.861521Z",
     "iopub.status.busy": "2025-09-15T14:48:45.861188Z",
     "iopub.status.idle": "2025-09-15T14:48:45.868069Z",
     "shell.execute_reply": "2025-09-15T14:48:45.866868Z"
    },
    "papermill": {
     "duration": 0.013227,
     "end_time": "2025-09-15T14:48:45.870164",
     "exception": false,
     "start_time": "2025-09-15T14:48:45.856937",
     "status": "completed"
    },
    "tags": []
   },
   "outputs": [
    {
     "data": {
      "text/plain": [
       "(784,)"
      ]
     },
     "execution_count": 6,
     "metadata": {},
     "output_type": "execute_result"
    }
   ],
   "source": [
    "X_train[:,0].shape"
   ]
  },
  {
   "cell_type": "code",
   "execution_count": 7,
   "id": "2e9c4500",
   "metadata": {
    "execution": {
     "iopub.execute_input": "2025-09-15T14:48:45.878475Z",
     "iopub.status.busy": "2025-09-15T14:48:45.878136Z",
     "iopub.status.idle": "2025-09-15T14:48:45.890272Z",
     "shell.execute_reply": "2025-09-15T14:48:45.888834Z"
    },
    "papermill": {
     "duration": 0.018385,
     "end_time": "2025-09-15T14:48:45.892132",
     "exception": false,
     "start_time": "2025-09-15T14:48:45.873747",
     "status": "completed"
    },
    "tags": []
   },
   "outputs": [],
   "source": [
    "def init_param():\n",
    "    W1 = np.random.randn(128, 784) * 0.01 # scaling weights approprately & increase size\n",
    "    b1 = np.zeros((128,1))\n",
    "\n",
    "    W2 = np.random.rand(10, 128) * 0.01\n",
    "    b2 = np.zeros((10,1))\n",
    "\n",
    "    return W1, b1, W2, b2\n",
    "\n",
    "def ReLu(X):\n",
    "    return np.maximum(0, X)\n",
    "\n",
    "def softmax(Z):\n",
    "    #STABLE SOFTMAX\n",
    "    Z_shifted = Z - np.max(Z, axis=0, keepdims=True)\n",
    "    exp_Z = np.exp(Z_shifted)\n",
    "    return exp_Z / np.sum(exp_Z, axis=0, keepdims=True)\n",
    "\n",
    "def forward_prop(W1, b1, W2, b2, X):\n",
    "    Z1 = W1.dot(X) + b1\n",
    "    A1 = ReLu(Z1)\n",
    "\n",
    "    Z2 = W2.dot(A1) +b2\n",
    "    A2 = softmax(Z2)\n",
    "\n",
    "    return Z1, A1, Z2, A2\n",
    "\n",
    "\n",
    "def one_hot(Y):\n",
    "    one_hot_Y = np.zeros((Y.size, 10))  #blank canvas (10, 10)\n",
    "    one_hot_Y[np.arange(Y.size), Y] = 1\n",
    "    #one_hot_Y[0, Y[0]] = 1\n",
    "    #one_hot_Y[1, Y[1]] = 1\n",
    "    #...\n",
    "    #one_hot_Y[Y.size -1, Y[size-1]] = 1\n",
    "\n",
    "    one_hot_Y = one_hot_Y.T\n",
    "    return one_hot_Y\n",
    "\n",
    "def drv_relu(X):\n",
    "    return (X > 0).astype(float)\n",
    "\n",
    "def backward_prop(Z1, A1, Z2, A2, W2, X, Y):\n",
    "    m = Y.size\n",
    "    one_hot_Y = one_hot(Y)\n",
    "    dZ2 = A2 - one_hot_Y\n",
    "    dW2 = 1/m * dZ2.dot(A1.T) \n",
    "    db2 = 1/m * np.sum(dZ2, axis=1, keepdims=True)\n",
    "\n",
    "    \n",
    "    dZ1 = W2.T.dot(dZ2) * drv_relu(Z1)\n",
    "    dW1 = 1/m * dZ1.dot(X.T)\n",
    "    db1 = 1/m * np.sum(dZ1, axis=1, keepdims=True)\n",
    "\n",
    "    return dW1, db1, dW2, db2\n",
    "\n",
    "def update_param(W1, b1, W2, b2, dW1, db1, dW2, db2, a):\n",
    "    W1 = W1- a * dW1\n",
    "    b1 = b1 - a * db1\n",
    "    W2 = W2 - a * dW2\n",
    "    b2 = b2 - a * db2\n",
    "    \n",
    "    return W1, b1, W2, b2\n",
    "    \n",
    "    \n",
    "    \n",
    "    \n",
    "    "
   ]
  },
  {
   "cell_type": "code",
   "execution_count": 8,
   "id": "8ab0503f",
   "metadata": {
    "execution": {
     "iopub.execute_input": "2025-09-15T14:48:45.900221Z",
     "iopub.status.busy": "2025-09-15T14:48:45.899892Z",
     "iopub.status.idle": "2025-09-15T14:48:45.905954Z",
     "shell.execute_reply": "2025-09-15T14:48:45.904965Z"
    },
    "papermill": {
     "duration": 0.012324,
     "end_time": "2025-09-15T14:48:45.907857",
     "exception": false,
     "start_time": "2025-09-15T14:48:45.895533",
     "status": "completed"
    },
    "tags": []
   },
   "outputs": [],
   "source": [
    "def get_predictions(A2):\n",
    "    return np.argmax(A2, 0) #the index of the highest probability across columns.\n",
    "\n",
    "def get_accuracy(prediction, Y):\n",
    "    if len(prediction) > 10:\n",
    "        print(\"Predictions:\", prediction[:10], \"True:\", Y[:10])\n",
    "    else:\n",
    "        print(\"Predictions:\", prediction, \"True:\", Y)\n",
    "    return np.sum(prediction == Y) / Y.size\n",
    "    return np.sum(prediction == Y) / Y.size # (Number of Correct) / (Total Number)"
   ]
  },
  {
   "cell_type": "code",
   "execution_count": 9,
   "id": "622c74bc",
   "metadata": {
    "execution": {
     "iopub.execute_input": "2025-09-15T14:48:45.915854Z",
     "iopub.status.busy": "2025-09-15T14:48:45.915471Z",
     "iopub.status.idle": "2025-09-15T14:48:45.922951Z",
     "shell.execute_reply": "2025-09-15T14:48:45.921865Z"
    },
    "papermill": {
     "duration": 0.013402,
     "end_time": "2025-09-15T14:48:45.924629",
     "exception": false,
     "start_time": "2025-09-15T14:48:45.911227",
     "status": "completed"
    },
    "tags": []
   },
   "outputs": [],
   "source": [
    "def gradiant_decent(X, Y, iterations, a):\n",
    "    W1, b1, W2, b2 = init_param()\n",
    "\n",
    "    for i in range(iterations):\n",
    "        learning_rate = a * (0.95 ** (i//50))\n",
    "        Z1, A1, Z2, A2 = forward_prop(W1, b1, W2, b2, X)\n",
    "        dW1, db1, dW2, db2 = backward_prop(Z1, A1, Z2, A2, W2, X, Y)\n",
    "        W1, b1, W2, b2 = update_param(W1, b1, W2, b2, dW1, db1, dW2, db2, learning_rate)\n",
    "\n",
    "        if (i % 10 == 0):\n",
    "            print('Iteration : ',i)\n",
    "            print('accuracy : ', get_accuracy(get_predictions(A2), Y))\n",
    "    return W1, b1, W2, b2"
   ]
  },
  {
   "cell_type": "code",
   "execution_count": 10,
   "id": "5ced1d88",
   "metadata": {
    "execution": {
     "iopub.execute_input": "2025-09-15T14:48:45.933446Z",
     "iopub.status.busy": "2025-09-15T14:48:45.933085Z",
     "iopub.status.idle": "2025-09-15T14:50:10.867990Z",
     "shell.execute_reply": "2025-09-15T14:50:10.866857Z"
    },
    "papermill": {
     "duration": 84.942053,
     "end_time": "2025-09-15T14:50:10.870605",
     "exception": false,
     "start_time": "2025-09-15T14:48:45.928552",
     "status": "completed"
    },
    "tags": []
   },
   "outputs": [
    {
     "name": "stdout",
     "output_type": "stream",
     "text": [
      "Iteration :  0\n",
      "Predictions: [4 6 6 8 0 6 0 6 0 1] True: [5 7 5 8 9 8 1 9 3 3]\n",
      "accuracy :  0.08387804878048781\n",
      "Iteration :  10\n",
      "Predictions: [4 6 6 8 0 6 0 6 0 1] True: [5 7 5 8 9 8 1 9 3 3]\n",
      "accuracy :  0.08665853658536585\n",
      "Iteration :  20\n",
      "Predictions: [4 6 6 8 0 6 0 6 0 1] True: [5 7 5 8 9 8 1 9 3 3]\n",
      "accuracy :  0.08992682926829268\n",
      "Iteration :  30\n",
      "Predictions: [4 6 6 8 0 6 0 6 0 1] True: [5 7 5 8 9 8 1 9 3 3]\n",
      "accuracy :  0.09407317073170732\n",
      "Iteration :  40\n",
      "Predictions: [4 6 6 8 0 6 0 6 0 1] True: [5 7 5 8 9 8 1 9 3 3]\n",
      "accuracy :  0.09951219512195122\n",
      "Iteration :  50\n",
      "Predictions: [0 6 6 8 0 6 0 6 0 1] True: [5 7 5 8 9 8 1 9 3 3]\n",
      "accuracy :  0.10519512195121951\n",
      "Iteration :  60\n",
      "Predictions: [0 6 6 8 0 6 0 6 0 1] True: [5 7 5 8 9 8 1 9 3 3]\n",
      "accuracy :  0.11151219512195122\n",
      "Iteration :  70\n",
      "Predictions: [0 6 6 8 0 6 0 6 0 1] True: [5 7 5 8 9 8 1 9 3 3]\n",
      "accuracy :  0.11895121951219512\n",
      "Iteration :  80\n",
      "Predictions: [0 6 6 8 0 6 0 6 0 1] True: [5 7 5 8 9 8 1 9 3 3]\n",
      "accuracy :  0.12746341463414634\n",
      "Iteration :  90\n",
      "Predictions: [0 6 6 8 0 6 0 6 0 1] True: [5 7 5 8 9 8 1 9 3 3]\n",
      "accuracy :  0.13865853658536587\n",
      "Iteration :  100\n",
      "Predictions: [0 6 6 8 0 6 0 0 0 1] True: [5 7 5 8 9 8 1 9 3 3]\n",
      "accuracy :  0.14960975609756097\n",
      "Iteration :  110\n",
      "Predictions: [0 7 6 8 0 6 0 0 0 1] True: [5 7 5 8 9 8 1 9 3 3]\n",
      "accuracy :  0.1608780487804878\n",
      "Iteration :  120\n",
      "Predictions: [0 7 6 8 0 6 0 0 0 1] True: [5 7 5 8 9 8 1 9 3 3]\n",
      "accuracy :  0.17285365853658535\n",
      "Iteration :  130\n",
      "Predictions: [0 7 6 8 0 6 0 0 0 1] True: [5 7 5 8 9 8 1 9 3 3]\n",
      "accuracy :  0.18514634146341463\n",
      "Iteration :  140\n",
      "Predictions: [0 7 6 8 0 6 0 0 0 1] True: [5 7 5 8 9 8 1 9 3 3]\n",
      "accuracy :  0.19758536585365855\n",
      "Iteration :  150\n",
      "Predictions: [0 7 6 8 0 1 0 0 0 1] True: [5 7 5 8 9 8 1 9 3 3]\n",
      "accuracy :  0.2091951219512195\n",
      "Iteration :  160\n",
      "Predictions: [0 7 6 8 0 1 0 0 0 1] True: [5 7 5 8 9 8 1 9 3 3]\n",
      "accuracy :  0.21936585365853659\n",
      "Iteration :  170\n",
      "Predictions: [0 7 6 8 0 1 0 0 0 1] True: [5 7 5 8 9 8 1 9 3 3]\n",
      "accuracy :  0.2282439024390244\n",
      "Iteration :  180\n",
      "Predictions: [0 7 6 8 0 1 0 0 0 1] True: [5 7 5 8 9 8 1 9 3 3]\n",
      "accuracy :  0.23741463414634145\n",
      "Iteration :  190\n",
      "Predictions: [0 7 6 8 0 1 0 0 0 1] True: [5 7 5 8 9 8 1 9 3 3]\n",
      "accuracy :  0.24670731707317073\n"
     ]
    }
   ],
   "source": [
    "W1, b1, W2, b2 = gradiant_decent(X_train, Y_train, 200, 0.001)"
   ]
  }
 ],
 "metadata": {
  "kaggle": {
   "accelerator": "none",
   "dataSources": [
    {
     "databundleVersionId": 861823,
     "sourceId": 3004,
     "sourceType": "competition"
    }
   ],
   "dockerImageVersionId": 31089,
   "isGpuEnabled": false,
   "isInternetEnabled": true,
   "language": "python",
   "sourceType": "notebook"
  },
  "kernelspec": {
   "display_name": "Python 3",
   "language": "python",
   "name": "python3"
  },
  "language_info": {
   "codemirror_mode": {
    "name": "ipython",
    "version": 3
   },
   "file_extension": ".py",
   "mimetype": "text/x-python",
   "name": "python",
   "nbconvert_exporter": "python",
   "pygments_lexer": "ipython3",
   "version": "3.11.13"
  },
  "papermill": {
   "default_parameters": {},
   "duration": 98.381744,
   "end_time": "2025-09-15T14:50:11.497138",
   "environment_variables": {},
   "exception": null,
   "input_path": "__notebook__.ipynb",
   "output_path": "__notebook__.ipynb",
   "parameters": {},
   "start_time": "2025-09-15T14:48:33.115394",
   "version": "2.6.0"
  }
 },
 "nbformat": 4,
 "nbformat_minor": 5
}
