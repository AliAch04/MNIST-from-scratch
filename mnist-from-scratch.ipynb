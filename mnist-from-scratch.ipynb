{
 "cells": [
  {
   "cell_type": "code",
   "execution_count": 1,
   "id": "7102458e",
   "metadata": {
    "_cell_guid": "b1076dfc-b9ad-4769-8c92-a6c4dae69d19",
    "_uuid": "8f2839f25d086af736a60e9eeb907d3b93b6e0e5",
    "execution": {
     "iopub.execute_input": "2025-09-15T14:34:47.425416Z",
     "iopub.status.busy": "2025-09-15T14:34:47.424602Z",
     "iopub.status.idle": "2025-09-15T14:34:49.122295Z",
     "shell.execute_reply": "2025-09-15T14:34:49.121351Z"
    },
    "papermill": {
     "duration": 1.704292,
     "end_time": "2025-09-15T14:34:49.124154",
     "exception": false,
     "start_time": "2025-09-15T14:34:47.419862",
     "status": "completed"
    },
    "tags": []
   },
   "outputs": [],
   "source": [
    "import numpy as np\n",
    "import pandas as pd\n",
    "import matplotlib.pyplot as plt"
   ]
  },
  {
   "cell_type": "code",
   "execution_count": 2,
   "id": "74bffb41",
   "metadata": {
    "execution": {
     "iopub.execute_input": "2025-09-15T14:34:49.130878Z",
     "iopub.status.busy": "2025-09-15T14:34:49.130504Z",
     "iopub.status.idle": "2025-09-15T14:34:52.765858Z",
     "shell.execute_reply": "2025-09-15T14:34:52.764886Z"
    },
    "papermill": {
     "duration": 3.640271,
     "end_time": "2025-09-15T14:34:52.767624",
     "exception": false,
     "start_time": "2025-09-15T14:34:49.127353",
     "status": "completed"
    },
    "tags": []
   },
   "outputs": [],
   "source": [
    "dt = pd.read_csv('/kaggle/input/digit-recognizer/train.csv')"
   ]
  },
  {
   "cell_type": "code",
   "execution_count": 3,
   "id": "19fa5ab6",
   "metadata": {
    "execution": {
     "iopub.execute_input": "2025-09-15T14:34:52.774643Z",
     "iopub.status.busy": "2025-09-15T14:34:52.774275Z",
     "iopub.status.idle": "2025-09-15T14:34:52.803717Z",
     "shell.execute_reply": "2025-09-15T14:34:52.802726Z"
    },
    "papermill": {
     "duration": 0.034616,
     "end_time": "2025-09-15T14:34:52.805252",
     "exception": false,
     "start_time": "2025-09-15T14:34:52.770636",
     "status": "completed"
    },
    "tags": []
   },
   "outputs": [
    {
     "data": {
      "text/html": [
       "<div>\n",
       "<style scoped>\n",
       "    .dataframe tbody tr th:only-of-type {\n",
       "        vertical-align: middle;\n",
       "    }\n",
       "\n",
       "    .dataframe tbody tr th {\n",
       "        vertical-align: top;\n",
       "    }\n",
       "\n",
       "    .dataframe thead th {\n",
       "        text-align: right;\n",
       "    }\n",
       "</style>\n",
       "<table border=\"1\" class=\"dataframe\">\n",
       "  <thead>\n",
       "    <tr style=\"text-align: right;\">\n",
       "      <th></th>\n",
       "      <th>label</th>\n",
       "      <th>pixel0</th>\n",
       "      <th>pixel1</th>\n",
       "      <th>pixel2</th>\n",
       "      <th>pixel3</th>\n",
       "      <th>pixel4</th>\n",
       "      <th>pixel5</th>\n",
       "      <th>pixel6</th>\n",
       "      <th>pixel7</th>\n",
       "      <th>pixel8</th>\n",
       "      <th>...</th>\n",
       "      <th>pixel774</th>\n",
       "      <th>pixel775</th>\n",
       "      <th>pixel776</th>\n",
       "      <th>pixel777</th>\n",
       "      <th>pixel778</th>\n",
       "      <th>pixel779</th>\n",
       "      <th>pixel780</th>\n",
       "      <th>pixel781</th>\n",
       "      <th>pixel782</th>\n",
       "      <th>pixel783</th>\n",
       "    </tr>\n",
       "  </thead>\n",
       "  <tbody>\n",
       "    <tr>\n",
       "      <th>0</th>\n",
       "      <td>1</td>\n",
       "      <td>0</td>\n",
       "      <td>0</td>\n",
       "      <td>0</td>\n",
       "      <td>0</td>\n",
       "      <td>0</td>\n",
       "      <td>0</td>\n",
       "      <td>0</td>\n",
       "      <td>0</td>\n",
       "      <td>0</td>\n",
       "      <td>...</td>\n",
       "      <td>0</td>\n",
       "      <td>0</td>\n",
       "      <td>0</td>\n",
       "      <td>0</td>\n",
       "      <td>0</td>\n",
       "      <td>0</td>\n",
       "      <td>0</td>\n",
       "      <td>0</td>\n",
       "      <td>0</td>\n",
       "      <td>0</td>\n",
       "    </tr>\n",
       "    <tr>\n",
       "      <th>1</th>\n",
       "      <td>0</td>\n",
       "      <td>0</td>\n",
       "      <td>0</td>\n",
       "      <td>0</td>\n",
       "      <td>0</td>\n",
       "      <td>0</td>\n",
       "      <td>0</td>\n",
       "      <td>0</td>\n",
       "      <td>0</td>\n",
       "      <td>0</td>\n",
       "      <td>...</td>\n",
       "      <td>0</td>\n",
       "      <td>0</td>\n",
       "      <td>0</td>\n",
       "      <td>0</td>\n",
       "      <td>0</td>\n",
       "      <td>0</td>\n",
       "      <td>0</td>\n",
       "      <td>0</td>\n",
       "      <td>0</td>\n",
       "      <td>0</td>\n",
       "    </tr>\n",
       "    <tr>\n",
       "      <th>2</th>\n",
       "      <td>1</td>\n",
       "      <td>0</td>\n",
       "      <td>0</td>\n",
       "      <td>0</td>\n",
       "      <td>0</td>\n",
       "      <td>0</td>\n",
       "      <td>0</td>\n",
       "      <td>0</td>\n",
       "      <td>0</td>\n",
       "      <td>0</td>\n",
       "      <td>...</td>\n",
       "      <td>0</td>\n",
       "      <td>0</td>\n",
       "      <td>0</td>\n",
       "      <td>0</td>\n",
       "      <td>0</td>\n",
       "      <td>0</td>\n",
       "      <td>0</td>\n",
       "      <td>0</td>\n",
       "      <td>0</td>\n",
       "      <td>0</td>\n",
       "    </tr>\n",
       "    <tr>\n",
       "      <th>3</th>\n",
       "      <td>4</td>\n",
       "      <td>0</td>\n",
       "      <td>0</td>\n",
       "      <td>0</td>\n",
       "      <td>0</td>\n",
       "      <td>0</td>\n",
       "      <td>0</td>\n",
       "      <td>0</td>\n",
       "      <td>0</td>\n",
       "      <td>0</td>\n",
       "      <td>...</td>\n",
       "      <td>0</td>\n",
       "      <td>0</td>\n",
       "      <td>0</td>\n",
       "      <td>0</td>\n",
       "      <td>0</td>\n",
       "      <td>0</td>\n",
       "      <td>0</td>\n",
       "      <td>0</td>\n",
       "      <td>0</td>\n",
       "      <td>0</td>\n",
       "    </tr>\n",
       "    <tr>\n",
       "      <th>4</th>\n",
       "      <td>0</td>\n",
       "      <td>0</td>\n",
       "      <td>0</td>\n",
       "      <td>0</td>\n",
       "      <td>0</td>\n",
       "      <td>0</td>\n",
       "      <td>0</td>\n",
       "      <td>0</td>\n",
       "      <td>0</td>\n",
       "      <td>0</td>\n",
       "      <td>...</td>\n",
       "      <td>0</td>\n",
       "      <td>0</td>\n",
       "      <td>0</td>\n",
       "      <td>0</td>\n",
       "      <td>0</td>\n",
       "      <td>0</td>\n",
       "      <td>0</td>\n",
       "      <td>0</td>\n",
       "      <td>0</td>\n",
       "      <td>0</td>\n",
       "    </tr>\n",
       "  </tbody>\n",
       "</table>\n",
       "<p>5 rows × 785 columns</p>\n",
       "</div>"
      ],
      "text/plain": [
       "   label  pixel0  pixel1  pixel2  pixel3  pixel4  pixel5  pixel6  pixel7  \\\n",
       "0      1       0       0       0       0       0       0       0       0   \n",
       "1      0       0       0       0       0       0       0       0       0   \n",
       "2      1       0       0       0       0       0       0       0       0   \n",
       "3      4       0       0       0       0       0       0       0       0   \n",
       "4      0       0       0       0       0       0       0       0       0   \n",
       "\n",
       "   pixel8  ...  pixel774  pixel775  pixel776  pixel777  pixel778  pixel779  \\\n",
       "0       0  ...         0         0         0         0         0         0   \n",
       "1       0  ...         0         0         0         0         0         0   \n",
       "2       0  ...         0         0         0         0         0         0   \n",
       "3       0  ...         0         0         0         0         0         0   \n",
       "4       0  ...         0         0         0         0         0         0   \n",
       "\n",
       "   pixel780  pixel781  pixel782  pixel783  \n",
       "0         0         0         0         0  \n",
       "1         0         0         0         0  \n",
       "2         0         0         0         0  \n",
       "3         0         0         0         0  \n",
       "4         0         0         0         0  \n",
       "\n",
       "[5 rows x 785 columns]"
      ]
     },
     "execution_count": 3,
     "metadata": {},
     "output_type": "execute_result"
    }
   ],
   "source": [
    "dt.head()"
   ]
  },
  {
   "cell_type": "code",
   "execution_count": 4,
   "id": "69841396",
   "metadata": {
    "execution": {
     "iopub.execute_input": "2025-09-15T14:34:52.812451Z",
     "iopub.status.busy": "2025-09-15T14:34:52.812147Z",
     "iopub.status.idle": "2025-09-15T14:34:52.818162Z",
     "shell.execute_reply": "2025-09-15T14:34:52.817300Z"
    },
    "papermill": {
     "duration": 0.011431,
     "end_time": "2025-09-15T14:34:52.819794",
     "exception": false,
     "start_time": "2025-09-15T14:34:52.808363",
     "status": "completed"
    },
    "tags": []
   },
   "outputs": [
    {
     "data": {
      "text/plain": [
       "(42000, 785)"
      ]
     },
     "execution_count": 4,
     "metadata": {},
     "output_type": "execute_result"
    }
   ],
   "source": [
    "dt.shape"
   ]
  },
  {
   "cell_type": "code",
   "execution_count": 5,
   "id": "e0a7455b",
   "metadata": {
    "execution": {
     "iopub.execute_input": "2025-09-15T14:34:52.826520Z",
     "iopub.status.busy": "2025-09-15T14:34:52.826268Z",
     "iopub.status.idle": "2025-09-15T14:34:53.772570Z",
     "shell.execute_reply": "2025-09-15T14:34:53.771522Z"
    },
    "papermill": {
     "duration": 0.951637,
     "end_time": "2025-09-15T14:34:53.774527",
     "exception": false,
     "start_time": "2025-09-15T14:34:52.822890",
     "status": "completed"
    },
    "tags": []
   },
   "outputs": [],
   "source": [
    "data = np.array(dt)\n",
    "m, n = data.shape\n",
    "np.random.shuffle(data)\n",
    "\n",
    "data_test = data[0:1000].T\n",
    "Y_test = data_test[0]\n",
    "X_test = data_test[1:n]\n",
    "X_test = X_test / 255  \n",
    "\n",
    "data_train = data[1000:m].T\n",
    "Y_train = data_train[0]\n",
    "X_train = data_train[1:n]\n",
    "X_train = X_train / 255 # NORMALIZE for better trai"
   ]
  },
  {
   "cell_type": "code",
   "execution_count": 6,
   "id": "ba11ac38",
   "metadata": {
    "execution": {
     "iopub.execute_input": "2025-09-15T14:34:53.781765Z",
     "iopub.status.busy": "2025-09-15T14:34:53.781448Z",
     "iopub.status.idle": "2025-09-15T14:34:53.787786Z",
     "shell.execute_reply": "2025-09-15T14:34:53.786868Z"
    },
    "papermill": {
     "duration": 0.01167,
     "end_time": "2025-09-15T14:34:53.789365",
     "exception": false,
     "start_time": "2025-09-15T14:34:53.777695",
     "status": "completed"
    },
    "tags": []
   },
   "outputs": [
    {
     "data": {
      "text/plain": [
       "(784,)"
      ]
     },
     "execution_count": 6,
     "metadata": {},
     "output_type": "execute_result"
    }
   ],
   "source": [
    "X_train[:,0].shape"
   ]
  },
  {
   "cell_type": "code",
   "execution_count": 7,
   "id": "643c01a4",
   "metadata": {
    "execution": {
     "iopub.execute_input": "2025-09-15T14:34:53.796584Z",
     "iopub.status.busy": "2025-09-15T14:34:53.796298Z",
     "iopub.status.idle": "2025-09-15T14:34:53.907939Z",
     "shell.execute_reply": "2025-09-15T14:34:53.907129Z"
    },
    "papermill": {
     "duration": 0.116785,
     "end_time": "2025-09-15T14:34:53.909334",
     "exception": false,
     "start_time": "2025-09-15T14:34:53.792549",
     "status": "completed"
    },
    "tags": []
   },
   "outputs": [],
   "source": [
    "def init_param():\n",
    "    W1 = np.random.randn(10, 784) * 0.01 # scaling weights approprately\n",
    "    b1 = np.zeros((10,1))\n",
    "\n",
    "    W2 = np.random.rand(10, 10) * 0.01\n",
    "    b2 = np.zeros((10,1))\n",
    "\n",
    "    return W1, b1, W2, b2\n",
    "\n",
    "def ReLu(X):\n",
    "    return np.maximum(0, X)\n",
    "\n",
    "def softmax(Z):\n",
    "    #STABLE SOFTMAX\n",
    "    Z_shifted = Z - np.max(Z, axis=0, keepdims=True)\n",
    "    exp_Z = np.exp(Z_shifted)\n",
    "    return exp_Z / np.sum(exp_Z, axis=0, keepdims=True)\n",
    "\n",
    "def forward_prop(W1, b1, W2, b2, X):\n",
    "    Z1 = W1.dot(X) + b1\n",
    "    A1 = ReLu(Z1)\n",
    "\n",
    "    Z2 = W2.dot(A1) +b2\n",
    "    A2 = softmax(Z2)\n",
    "\n",
    "    return Z1, A1, Z2, A2\n",
    "\n",
    "\n",
    "def one_hot(Y):\n",
    "    one_hot_Y = np.zeros((Y.size, 10))  #blank canvas (10, 10)\n",
    "    one_hot_Y[np.arange(Y.size), Y] = 1\n",
    "    #one_hot_Y[0, Y[0]] = 1\n",
    "    #one_hot_Y[1, Y[1]] = 1\n",
    "    #...\n",
    "    #one_hot_Y[Y.size -1, Y[size-1]] = 1\n",
    "\n",
    "    one_hot_Y = one_hot_Y.T\n",
    "    return one_hot_Y\n",
    "\n",
    "def drv_relu(X):\n",
    "    return (X > 0).astype(float)\n",
    "\n",
    "def backward_prop(Z1, A1, Z2, A2, W2, X, Y):\n",
    "    m = Y.size\n",
    "    one_hot_Y = one_hot(Y)\n",
    "    dZ2 = A2 - one_hot_Y\n",
    "    dW2 = 1/m * dZ2.dot(A1.T) \n",
    "    db2 = 1/m * np.sum(dZ2, axis=1, keepdims=True)\n",
    "\n",
    "    \n",
    "    dZ1 = W2.T.dot(dZ2) * drv_relu(Z1)\n",
    "    dW1 = 1/m * dZ1.dot(X.T)\n",
    "    db1 = 1/m * np.sum(dZ1, axis=1, keepdims=True)\n",
    "\n",
    "    return dW1, db1, dW2, db2\n",
    "\n",
    "def update_param(W1, b1, W2, b2, dW1, db1, dW2, db2, a):\n",
    "    W1 = W1- a * dW1\n",
    "    b1 = b1 - a * db1\n",
    "    W2 = W2 - a * dW2\n",
    "    b2 = b2 - a * db2\n",
    "    \n",
    "    return W1, b1, W2, b2\n",
    "    \n",
    "    \n",
    "    \n",
    "    \n",
    "    "
   ]
  },
  {
   "cell_type": "code",
   "execution_count": 8,
   "id": "bd567de0",
   "metadata": {
    "execution": {
     "iopub.execute_input": "2025-09-15T14:34:53.916056Z",
     "iopub.status.busy": "2025-09-15T14:34:53.915736Z",
     "iopub.status.idle": "2025-09-15T14:34:53.921175Z",
     "shell.execute_reply": "2025-09-15T14:34:53.920427Z"
    },
    "papermill": {
     "duration": 0.010267,
     "end_time": "2025-09-15T14:34:53.922576",
     "exception": false,
     "start_time": "2025-09-15T14:34:53.912309",
     "status": "completed"
    },
    "tags": []
   },
   "outputs": [],
   "source": [
    "def get_predictions(A2):\n",
    "    return np.argmax(A2, 0) #the index of the highest probability across columns.\n",
    "\n",
    "def get_accuracy(prediction, Y):\n",
    "    if len(prediction) > 10:\n",
    "        print(\"Predictions:\", prediction[:10], \"True:\", Y[:10])\n",
    "    else:\n",
    "        print(\"Predictions:\", prediction, \"True:\", Y)\n",
    "    return np.sum(prediction == Y) / Y.size\n",
    "    return np.sum(prediction == Y) / Y.size # (Number of Correct) / (Total Number)"
   ]
  },
  {
   "cell_type": "code",
   "execution_count": 9,
   "id": "3ffacfd4",
   "metadata": {
    "execution": {
     "iopub.execute_input": "2025-09-15T14:34:53.929290Z",
     "iopub.status.busy": "2025-09-15T14:34:53.929016Z",
     "iopub.status.idle": "2025-09-15T14:34:53.934995Z",
     "shell.execute_reply": "2025-09-15T14:34:53.934175Z"
    },
    "papermill": {
     "duration": 0.011015,
     "end_time": "2025-09-15T14:34:53.936404",
     "exception": false,
     "start_time": "2025-09-15T14:34:53.925389",
     "status": "completed"
    },
    "tags": []
   },
   "outputs": [],
   "source": [
    "def gradiant_decent(X, Y, iterations, a):\n",
    "    W1, b1, W2, b2 = init_param()\n",
    "\n",
    "    for i in range(iterations):\n",
    "        Z1, A1, Z2, A2 = forward_prop(W1, b1, W2, b2, X)\n",
    "        dW1, db1, dW2, db2 = backward_prop(Z1, A1, Z2, A2, W2, X, Y)\n",
    "        W1, b1, W2, b2 = update_param(W1, b1, W2, b2, dW1, db1, dW2, db2, a)\n",
    "\n",
    "        if (i % 10 == 0):\n",
    "            print('Iteration : ',i)\n",
    "            print('accuracy : ', get_accuracy(get_predictions(A2), Y))\n",
    "    return W1, b1, W2, b2"
   ]
  },
  {
   "cell_type": "code",
   "execution_count": 10,
   "id": "d5f6c41b",
   "metadata": {
    "execution": {
     "iopub.execute_input": "2025-09-15T14:34:53.943644Z",
     "iopub.status.busy": "2025-09-15T14:34:53.942820Z",
     "iopub.status.idle": "2025-09-15T14:35:12.625381Z",
     "shell.execute_reply": "2025-09-15T14:35:12.624410Z"
    },
    "papermill": {
     "duration": 18.688012,
     "end_time": "2025-09-15T14:35:12.627331",
     "exception": false,
     "start_time": "2025-09-15T14:34:53.939319",
     "status": "completed"
    },
    "tags": []
   },
   "outputs": [
    {
     "name": "stdout",
     "output_type": "stream",
     "text": [
      "Iteration :  0\n",
      "Predictions: [7 7 0 6 6 7 7 7 6 6] True: [2 6 4 4 4 0 8 7 6 9]\n",
      "accuracy :  0.0748780487804878\n",
      "Iteration :  10\n",
      "Predictions: [7 7 0 6 7 7 7 7 1 6] True: [2 6 4 4 4 0 8 7 6 9]\n",
      "accuracy :  0.10329268292682926\n",
      "Iteration :  20\n",
      "Predictions: [7 7 1 1 7 7 7 7 1 1] True: [2 6 4 4 4 0 8 7 6 9]\n",
      "accuracy :  0.13134146341463415\n",
      "Iteration :  30\n",
      "Predictions: [7 7 1 1 7 7 7 7 1 1] True: [2 6 4 4 4 0 8 7 6 9]\n",
      "accuracy :  0.14378048780487804\n",
      "Iteration :  40\n",
      "Predictions: [7 7 1 1 7 7 7 7 1 1] True: [2 6 4 4 4 0 8 7 6 9]\n",
      "accuracy :  0.1408292682926829\n",
      "Iteration :  50\n",
      "Predictions: [7 7 1 1 7 7 1 7 1 1] True: [2 6 4 4 4 0 8 7 6 9]\n",
      "accuracy :  0.13463414634146342\n",
      "Iteration :  60\n",
      "Predictions: [7 7 1 1 7 7 1 7 1 1] True: [2 6 4 4 4 0 8 7 6 9]\n",
      "accuracy :  0.12926829268292683\n",
      "Iteration :  70\n",
      "Predictions: [7 7 1 1 1 7 1 7 1 1] True: [2 6 4 4 4 0 8 7 6 9]\n",
      "accuracy :  0.12453658536585366\n",
      "Iteration :  80\n",
      "Predictions: [7 7 1 1 1 7 1 7 1 1] True: [2 6 4 4 4 0 8 7 6 9]\n",
      "accuracy :  0.12112195121951219\n",
      "Iteration :  90\n",
      "Predictions: [7 7 1 1 1 7 1 7 1 1] True: [2 6 4 4 4 0 8 7 6 9]\n",
      "accuracy :  0.11826829268292682\n",
      "Iteration :  100\n",
      "Predictions: [7 7 1 1 1 7 1 1 1 1] True: [2 6 4 4 4 0 8 7 6 9]\n",
      "accuracy :  0.11619512195121952\n",
      "Iteration :  110\n",
      "Predictions: [1 7 1 1 1 7 1 1 1 1] True: [2 6 4 4 4 0 8 7 6 9]\n",
      "accuracy :  0.11480487804878049\n",
      "Iteration :  120\n",
      "Predictions: [1 7 1 1 1 7 1 1 1 1] True: [2 6 4 4 4 0 8 7 6 9]\n",
      "accuracy :  0.11370731707317074\n",
      "Iteration :  130\n",
      "Predictions: [1 7 1 1 1 1 1 1 1 1] True: [2 6 4 4 4 0 8 7 6 9]\n",
      "accuracy :  0.11309756097560976\n",
      "Iteration :  140\n",
      "Predictions: [1 7 1 1 1 1 1 1 1 1] True: [2 6 4 4 4 0 8 7 6 9]\n",
      "accuracy :  0.11270731707317073\n",
      "Iteration :  150\n",
      "Predictions: [1 7 1 1 1 1 1 1 1 1] True: [2 6 4 4 4 0 8 7 6 9]\n",
      "accuracy :  0.1124390243902439\n",
      "Iteration :  160\n",
      "Predictions: [1 7 1 1 1 1 1 1 1 1] True: [2 6 4 4 4 0 8 7 6 9]\n",
      "accuracy :  0.11229268292682927\n",
      "Iteration :  170\n",
      "Predictions: [1 7 1 1 1 1 1 1 1 1] True: [2 6 4 4 4 0 8 7 6 9]\n",
      "accuracy :  0.11204878048780488\n",
      "Iteration :  180\n",
      "Predictions: [1 1 1 1 1 1 1 1 1 1] True: [2 6 4 4 4 0 8 7 6 9]\n",
      "accuracy :  0.11197560975609756\n",
      "Iteration :  190\n",
      "Predictions: [1 1 1 1 1 1 1 1 1 1] True: [2 6 4 4 4 0 8 7 6 9]\n",
      "accuracy :  0.11195121951219512\n"
     ]
    }
   ],
   "source": [
    "W1, b1, W2, b2 = gradiant_decent(X_train, Y_train, 200, 0.001)"
   ]
  }
 ],
 "metadata": {
  "kaggle": {
   "accelerator": "none",
   "dataSources": [
    {
     "databundleVersionId": 861823,
     "sourceId": 3004,
     "sourceType": "competition"
    }
   ],
   "dockerImageVersionId": 31089,
   "isGpuEnabled": false,
   "isInternetEnabled": true,
   "language": "python",
   "sourceType": "notebook"
  },
  "kernelspec": {
   "display_name": "Python 3",
   "language": "python",
   "name": "python3"
  },
  "language_info": {
   "codemirror_mode": {
    "name": "ipython",
    "version": 3
   },
   "file_extension": ".py",
   "mimetype": "text/x-python",
   "name": "python",
   "nbconvert_exporter": "python",
   "pygments_lexer": "ipython3",
   "version": "3.11.13"
  },
  "papermill": {
   "default_parameters": {},
   "duration": 31.336887,
   "end_time": "2025-09-15T14:35:13.352587",
   "environment_variables": {},
   "exception": null,
   "input_path": "__notebook__.ipynb",
   "output_path": "__notebook__.ipynb",
   "parameters": {},
   "start_time": "2025-09-15T14:34:42.015700",
   "version": "2.6.0"
  }
 },
 "nbformat": 4,
 "nbformat_minor": 5
}
